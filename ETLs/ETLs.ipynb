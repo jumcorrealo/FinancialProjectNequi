{
 "cells": [
  {
   "cell_type": "code",
   "execution_count": 22,
   "metadata": {},
   "outputs": [],
   "source": [
    "import configparser\n",
    "import psycopg2\n",
    "import socket\n",
    "import sys"
   ]
  },
  {
   "cell_type": "code",
   "execution_count": 19,
   "metadata": {},
   "outputs": [
    {
     "name": "stdout",
     "output_type": "stream",
     "text": [
      "Symbols fetched from tbTradingHistoric successfully!\n",
      "Symbols fetched from tbDimSymbol successfully!\n"
     ]
    }
   ],
   "source": [
    "\n",
    "config = configparser.ConfigParser()\n",
    "config.read('../config.ini')\n",
    "db_endpoint_RDS = config['database']['host']\n",
    "db_name_RDS = config['database']['database_name']\n",
    "db_user_RDS = config['database']['username']\n",
    "db_password_RDS = config['database']['password']\n",
    "db_port_RDS = int(config['database']['port'])\n",
    "\n",
    "db_endpoint_RSH = config['redshift']['host']\n",
    "db_name_RSH = config['redshift']['database_name']\n",
    "db_user_RSH = config['redshift']['username']\n",
    "db_password_RSH = config['redshift']['password']\n",
    "db_port_RSH = int(config['redshift']['port'])\n",
    "\n",
    "def connect_to_RDS():\n",
    "    conn_rds = psycopg2.connect(\n",
    "            host=db_endpoint_RDS,\n",
    "            port = db_port_RDS,\n",
    "            database = db_name_RDS,\n",
    "            user=db_user_RDS,\n",
    "            password=db_password_RDS\n",
    "        )\n",
    "    return conn_rds\n",
    "\n",
    "def connection_to_RedShift():\n",
    "\n",
    "    conn_rsh = psycopg2.connect(\n",
    "            host=db_endpoint_RSH,\n",
    "            port = db_port_RSH,\n",
    "            database = db_name_RSH,\n",
    "            user=db_user_RSH,\n",
    "            password=db_password_RSH\n",
    "        )\n",
    "    \n",
    "    return conn_rsh\n",
    "\n",
    "\n",
    "try:    \n",
    "\n",
    "    conn_rds = connect_to_RDS()\n",
    "    cur_rds = conn_rds.cursor()\n",
    "    conn_rsh = connection_to_RedShift()\n",
    "    cur_rsh = conn_rsh.cursor()\n",
    "\n",
    "\n",
    "except (socket.timeout, psycopg2.OperationalError) as e:\n",
    "    if isinstance(e, socket.timeout):\n",
    "        print(\"Error: Connection timed out.\")\n",
    "    else:\n",
    "        print(\"Error during connection:\", e)\n",
    "    sys.exit(1)  # Terminate the program with a non-zero exit code\n",
    "\n",
    "\n",
    "try:\n",
    "    # Obtener los símbolos únicos de tbTradingHistoric\n",
    "    cur_rds.execute(\"SELECT DISTINCT \\\"Symbol\\\" FROM tbTradingHistoric;\")\n",
    "    symbols_tbTradingHistoric = cur_rds.fetchall()\n",
    "    print(\"Symbols fetched from tbTradingHistoric successfully!\")\n",
    "\n",
    "    # Obtener los símbolos únicos de tbDimSymbol\n",
    "    cur_rsh.execute(\"SELECT DISTINCT \\\"Symbol\\\" FROM tbDimSymbol;\")\n",
    "    symbols_tbdimSymbols = cur_rsh.fetchall()\n",
    "    print(\"Symbols fetched from tbDimSymbol successfully!\")\n",
    "\n",
    "    # Lista de comprensión para eliminar los símbolos existentes de symbols_tbTradingHistoric\n",
    "    symbols_tbTradingHistoric = [symbol for symbol in symbols_tbTradingHistoric if symbol not in symbols_tbdimSymbols]\n",
    "\n",
    "    # Consulta de inserción\n",
    "    insert_query = \"INSERT INTO tbDimSymbol (Symbol) VALUES (%s)\"\n",
    "\n",
    "    with conn_rsh.cursor() as cur_rsh:\n",
    "        for symbol in symbols_tbTradingHistoric:\n",
    "            try:\n",
    "                cur_rsh.execute(insert_query, symbol)\n",
    "                print(f\"Inserted symbol '{symbol[0]}' into tbDimSymbol successfully!\")\n",
    "            except psycopg2.Error as e:\n",
    "                print(f\"Error occurred during insertion for symbol '{symbol[0]}':\", e)\n",
    "                conn_rsh.rollback()  # Rollback the transaction in case of an error\n",
    "\n",
    "    conn_rsh.commit()  # Commit all the successful insertions\n",
    "\n",
    "except (socket.timeout, psycopg2.OperationalError) as e:\n",
    "    if isinstance(e, socket.timeout):\n",
    "        print(\"Error: Connection timed out.\")\n",
    "    else:\n",
    "        print(\"Error during connection:\", e)\n",
    "    sys.exit(1)  # Terminate the program with a non-zero exit code\n",
    "except psycopg2.Error as e:\n",
    "    print(\"Error occurred during SQL query:\", e)\n",
    "    conn_rsh.rollback()  # Rollback the transaction in case of an error\n",
    "\n",
    "\n",
    "conn_rds.close()\n",
    "conn_rsh.close()"
   ]
  },
  {
   "cell_type": "code",
   "execution_count": 23,
   "metadata": {},
   "outputs": [],
   "source": [
    "\n",
    "config = configparser.ConfigParser()\n",
    "config.read('../config.ini')\n",
    "db_endpoint_RDS = config['database']['host']\n",
    "db_name_RDS = config['database']['database_name']\n",
    "db_user_RDS = config['database']['username']\n",
    "db_password_RDS = config['database']['password']\n",
    "db_port_RDS = int(config['database']['port'])\n",
    "\n",
    "db_endpoint_RSH = config['redshift']['host']\n",
    "db_name_RSH = config['redshift']['database_name']\n",
    "db_user_RSH = config['redshift']['username']\n",
    "db_password_RSH = config['redshift']['password']\n",
    "db_port_RSH = int(config['redshift']['port'])\n",
    "\n",
    "def connect_to_RDS():\n",
    "    conn_rds = psycopg2.connect(\n",
    "            host=db_endpoint_RDS,\n",
    "            port = db_port_RDS,\n",
    "            database = db_name_RDS,\n",
    "            user=db_user_RDS,\n",
    "            password=db_password_RDS\n",
    "        )\n",
    "    return conn_rds\n",
    "\n",
    "def connection_to_RedShift():\n",
    "\n",
    "    conn_rsh = psycopg2.connect(\n",
    "            host=db_endpoint_RSH,\n",
    "            port = db_port_RSH,\n",
    "            database = db_name_RSH,\n",
    "            user=db_user_RSH,\n",
    "            password=db_password_RSH\n",
    "        )\n",
    "    \n",
    "    return conn_rsh\n",
    "\n",
    "\n",
    "try:    \n",
    "\n",
    "    conn_rds = connect_to_RDS()\n",
    "    cur_rds = conn_rds.cursor()\n",
    "    conn_rsh = connection_to_RedShift()\n",
    "    cur_rsh = conn_rsh.cursor()\n",
    "\n",
    "\n",
    "except (socket.timeout, psycopg2.OperationalError) as e:\n",
    "    if isinstance(e, socket.timeout):\n",
    "        print(\"Error: Connection timed out.\")\n",
    "    else:\n",
    "        print(\"Error during connection:\", e)\n",
    "    sys.exit(1)  # Terminate the program with a non-zero exit code"
   ]
  },
  {
   "cell_type": "code",
   "execution_count": 24,
   "metadata": {},
   "outputs": [
    {
     "name": "stdout",
     "output_type": "stream",
     "text": [
      "Symbols fetched from tbTradingHistoric successfully!\n",
      "Symbols fetched from tbTradingHistoric successfully!\n",
      "Symbols fetched from tbTradingHistoric successfully!\n",
      "Symbols fetched from tbDimSymbol successfully!\n"
     ]
    }
   ],
   "source": [
    "cur_rds.execute(\"SELECT DISTINCT \\\"Symbol\\\" FROM tbTradingHistoric;\")\n",
    "symbols_tbTradingHistoric = cur_rds.fetchall()\n",
    "print(\"Symbols fetched from tbTradingHistoric successfully!\")\n",
    "\n",
    "cur_rds.execute(\"SELECT DISTINCT \\\"Symbol\\\" FROM tbtickers;\")\n",
    "symbols_tbtickers = cur_rds.fetchall()\n",
    "print(\"Symbols fetched from tbTradingHistoric successfully!\")\n",
    "\n",
    "\n",
    "cur_rds.execute(\"SELECT DISTINCT \\\"Symbol\\\" FROM tbGIDSDirectory;\")\n",
    "symbols_tbgidsdirectory = cur_rds.fetchall()\n",
    "print(\"Symbols fetched from tbTradingHistoric successfully!\")\n",
    "\n",
    "combined_symbols = symbols_tbTradingHistoric + symbols_tbtickers + symbols_tbgidsdirectory\n",
    "\n",
    "# Obtener los símbolos únicos de tbDimSymbol\n",
    "cur_rsh.execute(\"SELECT DISTINCT \\\"Symbol\\\" FROM tbDimSymbol;\")\n",
    "symbols_tbdimSymbols = cur_rsh.fetchall()\n",
    "print(\"Symbols fetched from tbDimSymbol successfully!\")\n",
    "\n",
    "# Lista de comprensión para eliminar los símbolos existentes de symbols_tbTradingHistoric\n",
    "combined_symbols = list(set([symbol][0] for symbol in combined_symbols if symbol not in symbols_tbdimSymbols))\n"
   ]
  },
  {
   "cell_type": "code",
   "execution_count": 25,
   "metadata": {},
   "outputs": [
    {
     "name": "stdout",
     "output_type": "stream",
     "text": [
      "la lista no contiene duplicados\n"
     ]
    }
   ],
   "source": [
    "from collections import Counter\n",
    "\n",
    "symbol_counts = Counter(symbol[0] for symbol in combined_symbols)\n",
    "\n",
    "has_duplicates = any(count > 1 for count in symbol_counts.values())\n",
    "\n",
    "if has_duplicates:\n",
    "    print(\"la lista tiene duplicados\")\n",
    "else:\n",
    "    print(\"la lista no contiene duplicados\")"
   ]
  },
  {
   "cell_type": "code",
   "execution_count": 27,
   "metadata": {},
   "outputs": [
    {
     "name": "stdout",
     "output_type": "stream",
     "text": [
      "False\n"
     ]
    }
   ],
   "source": [
    "def has_nulls(list):\n",
    "    return any(item is None for item in list)\n",
    "\n",
    "print(has_nulls(combined_symbols))"
   ]
  },
  {
   "cell_type": "code",
   "execution_count": null,
   "metadata": {},
   "outputs": [],
   "source": []
  }
 ],
 "metadata": {
  "kernelspec": {
   "display_name": "Python 3",
   "language": "python",
   "name": "python3"
  },
  "language_info": {
   "codemirror_mode": {
    "name": "ipython",
    "version": 3
   },
   "file_extension": ".py",
   "mimetype": "text/x-python",
   "name": "python",
   "nbconvert_exporter": "python",
   "pygments_lexer": "ipython3",
   "version": "3.11.4"
  },
  "orig_nbformat": 4
 },
 "nbformat": 4,
 "nbformat_minor": 2
}
