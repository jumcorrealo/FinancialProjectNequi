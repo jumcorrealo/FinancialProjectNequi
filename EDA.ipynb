{
 "cells": [
  {
   "cell_type": "code",
   "execution_count": 3,
   "metadata": {},
   "outputs": [],
   "source": [
    "import matplotlib.pyplot as plt\n",
    "import seaborn as sns\n",
    "import yfinance as yf\n",
    "import csv\n",
    "import random\n",
    "import pandas as pd\n",
    "from tqdm import tqdm\n",
    "import datetime\n",
    "import logging\n",
    "import re\n",
    "import configparser\n",
    "import psycopg2\n",
    "import socket\n",
    "import sys\n",
    "from collections import Counter"
   ]
  },
  {
   "cell_type": "code",
   "execution_count": 4,
   "metadata": {},
   "outputs": [
    {
     "name": "stdout",
     "output_type": "stream",
     "text": [
      "Connected successfully!\n"
     ]
    }
   ],
   "source": [
    "config = configparser.ConfigParser()\n",
    "config.read('./config.ini')\n",
    "\n",
    "# Get the database credentials\n",
    "db_endpoint = config['database']['host']\n",
    "db_name = config['database']['database_name']\n",
    "db_user = config['database']['username']\n",
    "db_password = config['database']['password']\n",
    "db_port = int(config['database']['port'])\n",
    "\n",
    "# Set the timeout for the connection attempt (in seconds)\n",
    "connection_timeout = 10\n",
    "\n",
    "try:    \n",
    "    # Now establish the database connection using psycopg2\n",
    "    connection = psycopg2.connect(\n",
    "        host=db_endpoint,\n",
    "        port = db_port,\n",
    "        database = db_name,\n",
    "        user=db_user,\n",
    "        password=db_password\n",
    "    )\n",
    "    print(\"Connected successfully!\")\n",
    "    \n",
    "\n",
    "except (socket.timeout, psycopg2.OperationalError) as e:\n",
    "    if isinstance(e, socket.timeout):\n",
    "        print(\"Error: Connection timed out.\")\n",
    "    else:\n",
    "        print(\"Error during connection:\", e)\n",
    "    sys.exit(1)  # Terminate the program with a non-zero exit code"
   ]
  },
  {
   "cell_type": "markdown",
   "metadata": {},
   "source": [
    "## Eda para Trading Historic"
   ]
  },
  {
   "cell_type": "code",
   "execution_count": 266,
   "metadata": {},
   "outputs": [],
   "source": [
    "with connection.cursor() as cursor:\n",
    "    cursor.execute(\"SELECT * FROM tbTradingHistoric;\")\n",
    "    columns = [desc[0] for desc in cursor.description]\n",
    "    data = cursor.fetchall()\n",
    "    df_trading_historic = pd.DataFrame(data, columns=columns)"
   ]
  },
  {
   "cell_type": "code",
   "execution_count": 267,
   "metadata": {},
   "outputs": [
    {
     "data": {
      "text/html": [
       "<div>\n",
       "<style scoped>\n",
       "    .dataframe tbody tr th:only-of-type {\n",
       "        vertical-align: middle;\n",
       "    }\n",
       "\n",
       "    .dataframe tbody tr th {\n",
       "        vertical-align: top;\n",
       "    }\n",
       "\n",
       "    .dataframe thead th {\n",
       "        text-align: right;\n",
       "    }\n",
       "</style>\n",
       "<table border=\"1\" class=\"dataframe\">\n",
       "  <thead>\n",
       "    <tr style=\"text-align: right;\">\n",
       "      <th></th>\n",
       "      <th>Date</th>\n",
       "      <th>Open</th>\n",
       "      <th>High</th>\n",
       "      <th>Low</th>\n",
       "      <th>Close</th>\n",
       "      <th>Adj_Close</th>\n",
       "      <th>Volume</th>\n",
       "      <th>Symbol</th>\n",
       "    </tr>\n",
       "  </thead>\n",
       "  <tbody>\n",
       "    <tr>\n",
       "      <th>0</th>\n",
       "      <td>2023-01-03</td>\n",
       "      <td>151.960007</td>\n",
       "      <td>153.130005</td>\n",
       "      <td>148.470001</td>\n",
       "      <td>150.039993</td>\n",
       "      <td>149.510452</td>\n",
       "      <td>1414300</td>\n",
       "      <td>A</td>\n",
       "    </tr>\n",
       "    <tr>\n",
       "      <th>1</th>\n",
       "      <td>2023-01-04</td>\n",
       "      <td>151.649994</td>\n",
       "      <td>153.039993</td>\n",
       "      <td>150.240005</td>\n",
       "      <td>151.669998</td>\n",
       "      <td>151.134705</td>\n",
       "      <td>1247400</td>\n",
       "      <td>A</td>\n",
       "    </tr>\n",
       "    <tr>\n",
       "      <th>2</th>\n",
       "      <td>2023-01-05</td>\n",
       "      <td>150.000000</td>\n",
       "      <td>153.070007</td>\n",
       "      <td>148.770004</td>\n",
       "      <td>152.110001</td>\n",
       "      <td>151.573166</td>\n",
       "      <td>1714600</td>\n",
       "      <td>A</td>\n",
       "    </tr>\n",
       "    <tr>\n",
       "      <th>3</th>\n",
       "      <td>2023-01-06</td>\n",
       "      <td>154.360001</td>\n",
       "      <td>154.639999</td>\n",
       "      <td>143.009995</td>\n",
       "      <td>147.669998</td>\n",
       "      <td>147.148834</td>\n",
       "      <td>2445000</td>\n",
       "      <td>A</td>\n",
       "    </tr>\n",
       "    <tr>\n",
       "      <th>4</th>\n",
       "      <td>2023-01-09</td>\n",
       "      <td>149.690002</td>\n",
       "      <td>151.279999</td>\n",
       "      <td>147.199997</td>\n",
       "      <td>147.470001</td>\n",
       "      <td>146.949524</td>\n",
       "      <td>1269600</td>\n",
       "      <td>A</td>\n",
       "    </tr>\n",
       "  </tbody>\n",
       "</table>\n",
       "</div>"
      ],
      "text/plain": [
       "         Date        Open        High         Low       Close   Adj_Close  \\\n",
       "0  2023-01-03  151.960007  153.130005  148.470001  150.039993  149.510452   \n",
       "1  2023-01-04  151.649994  153.039993  150.240005  151.669998  151.134705   \n",
       "2  2023-01-05  150.000000  153.070007  148.770004  152.110001  151.573166   \n",
       "3  2023-01-06  154.360001  154.639999  143.009995  147.669998  147.148834   \n",
       "4  2023-01-09  149.690002  151.279999  147.199997  147.470001  146.949524   \n",
       "\n",
       "    Volume Symbol  \n",
       "0  1414300      A  \n",
       "1  1247400      A  \n",
       "2  1714600      A  \n",
       "3  2445000      A  \n",
       "4  1269600      A  "
      ]
     },
     "execution_count": 267,
     "metadata": {},
     "output_type": "execute_result"
    }
   ],
   "source": [
    "df_trading_historic.head()"
   ]
  },
  {
   "cell_type": "code",
   "execution_count": 268,
   "metadata": {},
   "outputs": [
    {
     "data": {
      "text/plain": [
       "Index(['Date', 'Open', 'High', 'Low', 'Close', 'Adj_Close', 'Volume',\n",
       "       'Symbol'],\n",
       "      dtype='object')"
      ]
     },
     "execution_count": 268,
     "metadata": {},
     "output_type": "execute_result"
    }
   ],
   "source": [
    "df_trading_historic.columns"
   ]
  },
  {
   "cell_type": "code",
   "execution_count": 269,
   "metadata": {},
   "outputs": [
    {
     "data": {
      "text/plain": [
       "(943135, 8)"
      ]
     },
     "execution_count": 269,
     "metadata": {},
     "output_type": "execute_result"
    }
   ],
   "source": [
    "df_trading_historic.shape"
   ]
  },
  {
   "cell_type": "code",
   "execution_count": 270,
   "metadata": {},
   "outputs": [
    {
     "name": "stdout",
     "output_type": "stream",
     "text": [
      "                Open           High            Low          Close  \\\n",
      "count  943135.000000  943135.000000  943135.000000  943135.000000   \n",
      "mean       36.802673      37.318264      36.309455      36.826225   \n",
      "std       122.558300     123.983960     121.272416     122.685630   \n",
      "min         0.000000       0.002800       0.001300       0.001600   \n",
      "25%         4.380000       4.510000       4.230000       4.370000   \n",
      "50%        11.350000      11.550000      11.160000      11.350000   \n",
      "75%        30.990000      31.500000      30.469999      31.000000   \n",
      "max      6474.529785    6474.529785    6405.000000    6466.000000   \n",
      "\n",
      "           Adj_Close        Volume  \n",
      "count  943135.000000  9.431350e+05  \n",
      "mean       36.760733  1.202514e+06  \n",
      "std       122.646157  6.073132e+06  \n",
      "min         0.001600  0.000000e+00  \n",
      "25%         4.360000  2.720000e+04  \n",
      "50%        11.300000  1.698000e+05  \n",
      "75%        30.910000  7.484000e+05  \n",
      "max      6466.000000  1.894472e+09  \n"
     ]
    }
   ],
   "source": [
    "# Resumen estadístico básico\n",
    "print(df_trading_historic.describe())"
   ]
  },
  {
   "cell_type": "code",
   "execution_count": 271,
   "metadata": {},
   "outputs": [
    {
     "name": "stdout",
     "output_type": "stream",
     "text": [
      "<class 'pandas.core.frame.DataFrame'>\n",
      "RangeIndex: 943135 entries, 0 to 943134\n",
      "Data columns (total 8 columns):\n",
      " #   Column     Non-Null Count   Dtype  \n",
      "---  ------     --------------   -----  \n",
      " 0   Date       943135 non-null  object \n",
      " 1   Open       943135 non-null  float64\n",
      " 2   High       943135 non-null  float64\n",
      " 3   Low        943135 non-null  float64\n",
      " 4   Close      943135 non-null  float64\n",
      " 5   Adj_Close  943135 non-null  float64\n",
      " 6   Volume     943135 non-null  int64  \n",
      " 7   Symbol     943135 non-null  object \n",
      "dtypes: float64(5), int64(1), object(2)\n",
      "memory usage: 57.6+ MB\n",
      "None\n"
     ]
    }
   ],
   "source": [
    "# Información general del DataFrame\n",
    "print(df_trading_historic.info())"
   ]
  },
  {
   "cell_type": "code",
   "execution_count": 272,
   "metadata": {},
   "outputs": [
    {
     "name": "stdout",
     "output_type": "stream",
     "text": [
      "Date         0\n",
      "Open         0\n",
      "High         0\n",
      "Low          0\n",
      "Close        0\n",
      "Adj_Close    0\n",
      "Volume       0\n",
      "Symbol       0\n",
      "dtype: int64\n"
     ]
    }
   ],
   "source": [
    "# Contar valores nulos en cada columna\n",
    "print(df_trading_historic.isnull().sum())"
   ]
  },
  {
   "cell_type": "code",
   "execution_count": 273,
   "metadata": {},
   "outputs": [
    {
     "name": "stdout",
     "output_type": "stream",
     "text": [
      "Cantidad de registros duplicados: 0\n"
     ]
    }
   ],
   "source": [
    "#Find the duplicates\n",
    "\n",
    "duplicate_regist = df_trading_historic.duplicated().sum()\n",
    "print(f\"Cantidad de registros duplicados: {duplicate_regist}\")"
   ]
  },
  {
   "cell_type": "code",
   "execution_count": 274,
   "metadata": {},
   "outputs": [
    {
     "name": "stdout",
     "output_type": "stream",
     "text": [
      "Cantidad de símbolos únicos: 7080\n"
     ]
    }
   ],
   "source": [
    "#Count the unique symbols in the data\n",
    "unique_symbols_count = df_trading_historic['Symbol'].nunique()\n",
    "print(f\"Cantidad de símbolos únicos: {unique_symbols_count}\")"
   ]
  },
  {
   "cell_type": "markdown",
   "metadata": {},
   "source": [
    "### Ejemplo de cómo hacer un buen análisis para esta data, en este caso organizamos los tickers dependiendo de su porcentaje de rendimiento en el año"
   ]
  },
  {
   "cell_type": "code",
   "execution_count": 276,
   "metadata": {},
   "outputs": [
    {
     "name": "stdout",
     "output_type": "stream",
     "text": [
      "     Symbol  first_close  last_close  percentage_growth\n",
      "743   BBLGW     0.042000    2.250000        5257.142929\n",
      "6825   WETG     0.385000    9.110000        2266.233736\n",
      "5163   PRFX     0.410000    6.840000        1568.292735\n",
      "1720   CVNA     4.630000   44.020000         850.755926\n",
      "2158   ENLT     1.960000   18.620001         850.000024\n",
      "...     ...          ...         ...                ...\n",
      "4312   MULN     8.000000    0.120000         -98.500000\n",
      "6170  TBMCR    10.110000    0.143000         -98.585559\n",
      "4017   MCOM     6.200000    0.080000         -98.709677\n",
      "5879    SMX    10.190000    0.128000         -98.743866\n",
      "293    ALLR   362.600006    2.630000         -99.274683\n",
      "\n",
      "[7080 rows x 4 columns]\n"
     ]
    }
   ],
   "source": [
    "# Step 1: Convert 'Date' column to datetime type\n",
    "df_trading_historic['Date'] = pd.to_datetime(df_trading_historic['Date'])\n",
    "\n",
    "# Step 2: Drop rows with missing values in the 'Close' column\n",
    "df_trading_historic.dropna(subset=['Close'], inplace=True)\n",
    "\n",
    "# Step 3: Group by symbol and calculate the percentage growth between the first and last closing prices\n",
    "symbol_growth = df_trading_historic.groupby('Symbol').agg(\n",
    "    first_close=('Close', 'first'),\n",
    "    last_close=('Close', 'last'),\n",
    "    percentage_growth=('Close', lambda x: (x.iloc[-1] - x.iloc[0]) / x.iloc[0] * 100)\n",
    ").reset_index()\n",
    "\n",
    "# Step 4: Create a new DataFrame with the calculated percentage growth and closing prices\n",
    "df_symbol_growth = pd.DataFrame(symbol_growth, columns=['Symbol', 'first_close', 'last_close', 'percentage_growth'])\n",
    "\n",
    "# Step 5: Sort the new DataFrame in descending order based on the percentage growth\n",
    "df_symbol_growth = df_symbol_growth.sort_values(by='percentage_growth', ascending=False)\n",
    "\n",
    "# Print the result\n",
    "print(df_symbol_growth)"
   ]
  },
  {
   "cell_type": "markdown",
   "metadata": {},
   "source": [
    "## Eda para tickers"
   ]
  },
  {
   "cell_type": "code",
   "execution_count": 188,
   "metadata": {},
   "outputs": [],
   "source": [
    "with connection.cursor() as cursor:\n",
    "    cursor.execute(\"SELECT * FROM tbtickers;\")\n",
    "    columns = [desc[0] for desc in cursor.description]\n",
    "    data = cursor.fetchall()\n",
    "    df_tickers = pd.DataFrame(data, columns=columns)"
   ]
  },
  {
   "cell_type": "code",
   "execution_count": 189,
   "metadata": {},
   "outputs": [
    {
     "data": {
      "text/html": [
       "<div>\n",
       "<style scoped>\n",
       "    .dataframe tbody tr th:only-of-type {\n",
       "        vertical-align: middle;\n",
       "    }\n",
       "\n",
       "    .dataframe tbody tr th {\n",
       "        vertical-align: top;\n",
       "    }\n",
       "\n",
       "    .dataframe thead th {\n",
       "        text-align: right;\n",
       "    }\n",
       "</style>\n",
       "<table border=\"1\" class=\"dataframe\">\n",
       "  <thead>\n",
       "    <tr style=\"text-align: right;\">\n",
       "      <th></th>\n",
       "      <th>Symbol</th>\n",
       "      <th>Name</th>\n",
       "      <th>Country</th>\n",
       "      <th>IPO_Year</th>\n",
       "      <th>Volome</th>\n",
       "      <th>Sector</th>\n",
       "      <th>Industry</th>\n",
       "    </tr>\n",
       "  </thead>\n",
       "  <tbody>\n",
       "    <tr>\n",
       "      <th>0</th>\n",
       "      <td>A</td>\n",
       "      <td>Agilent Technologies Inc. Common Stock</td>\n",
       "      <td>United States</td>\n",
       "      <td>1999.0</td>\n",
       "      <td>1126393</td>\n",
       "      <td>Industrials</td>\n",
       "      <td>Electrical Products</td>\n",
       "    </tr>\n",
       "    <tr>\n",
       "      <th>1</th>\n",
       "      <td>AA</td>\n",
       "      <td>Alcoa Corporation Common Stock</td>\n",
       "      <td>United States</td>\n",
       "      <td>2016.0</td>\n",
       "      <td>1855048</td>\n",
       "      <td>Industrials</td>\n",
       "      <td>Aluminum</td>\n",
       "    </tr>\n",
       "    <tr>\n",
       "      <th>2</th>\n",
       "      <td>AAC</td>\n",
       "      <td>Ares Acquisition Corporation Class A Ordinary ...</td>\n",
       "      <td></td>\n",
       "      <td>2021.0</td>\n",
       "      <td>108237</td>\n",
       "      <td>Industrials</td>\n",
       "      <td>Metal Fabrications</td>\n",
       "    </tr>\n",
       "    <tr>\n",
       "      <th>3</th>\n",
       "      <td>AACG</td>\n",
       "      <td>ATA Creativity Global American Depositary Shares</td>\n",
       "      <td>China</td>\n",
       "      <td>2008.0</td>\n",
       "      <td>2719</td>\n",
       "      <td>Consumer Discretionary</td>\n",
       "      <td>Educational Services</td>\n",
       "    </tr>\n",
       "    <tr>\n",
       "      <th>4</th>\n",
       "      <td>AACI</td>\n",
       "      <td>Armada Acquisition Corp. I Common Stock</td>\n",
       "      <td>United States</td>\n",
       "      <td>2021.0</td>\n",
       "      <td>14201</td>\n",
       "      <td>Finance</td>\n",
       "      <td>Blank Checks</td>\n",
       "    </tr>\n",
       "  </tbody>\n",
       "</table>\n",
       "</div>"
      ],
      "text/plain": [
       "  Symbol                                               Name        Country  \\\n",
       "0      A             Agilent Technologies Inc. Common Stock  United States   \n",
       "1     AA                    Alcoa Corporation Common Stock   United States   \n",
       "2    AAC  Ares Acquisition Corporation Class A Ordinary ...                  \n",
       "3   AACG   ATA Creativity Global American Depositary Shares          China   \n",
       "4   AACI            Armada Acquisition Corp. I Common Stock  United States   \n",
       "\n",
       "   IPO_Year   Volome                  Sector              Industry  \n",
       "0    1999.0  1126393             Industrials   Electrical Products  \n",
       "1    2016.0  1855048             Industrials              Aluminum  \n",
       "2    2021.0   108237             Industrials    Metal Fabrications  \n",
       "3    2008.0     2719  Consumer Discretionary  Educational Services  \n",
       "4    2021.0    14201                 Finance          Blank Checks  "
      ]
     },
     "execution_count": 189,
     "metadata": {},
     "output_type": "execute_result"
    }
   ],
   "source": [
    "df_tickers.head()"
   ]
  },
  {
   "cell_type": "code",
   "execution_count": 190,
   "metadata": {},
   "outputs": [
    {
     "data": {
      "text/plain": [
       "Index(['Symbol', 'Name', 'Country', 'IPO_Year', 'Volome', 'Sector',\n",
       "       'Industry'],\n",
       "      dtype='object')"
      ]
     },
     "execution_count": 190,
     "metadata": {},
     "output_type": "execute_result"
    }
   ],
   "source": [
    "df_tickers.columns"
   ]
  },
  {
   "cell_type": "code",
   "execution_count": 191,
   "metadata": {},
   "outputs": [
    {
     "data": {
      "text/html": [
       "<div>\n",
       "<style scoped>\n",
       "    .dataframe tbody tr th:only-of-type {\n",
       "        vertical-align: middle;\n",
       "    }\n",
       "\n",
       "    .dataframe tbody tr th {\n",
       "        vertical-align: top;\n",
       "    }\n",
       "\n",
       "    .dataframe thead th {\n",
       "        text-align: right;\n",
       "    }\n",
       "</style>\n",
       "<table border=\"1\" class=\"dataframe\">\n",
       "  <thead>\n",
       "    <tr style=\"text-align: right;\">\n",
       "      <th></th>\n",
       "      <th>IPO_Year</th>\n",
       "      <th>Volome</th>\n",
       "    </tr>\n",
       "  </thead>\n",
       "  <tbody>\n",
       "    <tr>\n",
       "      <th>count</th>\n",
       "      <td>4364.000000</td>\n",
       "      <td>7.533000e+03</td>\n",
       "    </tr>\n",
       "    <tr>\n",
       "      <th>mean</th>\n",
       "      <td>2013.946379</td>\n",
       "      <td>5.541751e+05</td>\n",
       "    </tr>\n",
       "    <tr>\n",
       "      <th>std</th>\n",
       "      <td>10.314418</td>\n",
       "      <td>3.353323e+06</td>\n",
       "    </tr>\n",
       "    <tr>\n",
       "      <th>min</th>\n",
       "      <td>1925.000000</td>\n",
       "      <td>1.000000e+00</td>\n",
       "    </tr>\n",
       "    <tr>\n",
       "      <th>25%</th>\n",
       "      <td>2011.000000</td>\n",
       "      <td>7.051000e+03</td>\n",
       "    </tr>\n",
       "    <tr>\n",
       "      <th>50%</th>\n",
       "      <td>2018.000000</td>\n",
       "      <td>4.631400e+04</td>\n",
       "    </tr>\n",
       "    <tr>\n",
       "      <th>75%</th>\n",
       "      <td>2021.000000</td>\n",
       "      <td>2.386220e+05</td>\n",
       "    </tr>\n",
       "    <tr>\n",
       "      <th>max</th>\n",
       "      <td>2023.000000</td>\n",
       "      <td>1.298889e+08</td>\n",
       "    </tr>\n",
       "  </tbody>\n",
       "</table>\n",
       "</div>"
      ],
      "text/plain": [
       "          IPO_Year        Volome\n",
       "count  4364.000000  7.533000e+03\n",
       "mean   2013.946379  5.541751e+05\n",
       "std      10.314418  3.353323e+06\n",
       "min    1925.000000  1.000000e+00\n",
       "25%    2011.000000  7.051000e+03\n",
       "50%    2018.000000  4.631400e+04\n",
       "75%    2021.000000  2.386220e+05\n",
       "max    2023.000000  1.298889e+08"
      ]
     },
     "execution_count": 191,
     "metadata": {},
     "output_type": "execute_result"
    }
   ],
   "source": [
    "df_tickers.describe()"
   ]
  },
  {
   "cell_type": "code",
   "execution_count": 192,
   "metadata": {},
   "outputs": [
    {
     "name": "stdout",
     "output_type": "stream",
     "text": [
      "<class 'pandas.core.frame.DataFrame'>\n",
      "RangeIndex: 7533 entries, 0 to 7532\n",
      "Data columns (total 7 columns):\n",
      " #   Column    Non-Null Count  Dtype  \n",
      "---  ------    --------------  -----  \n",
      " 0   Symbol    7533 non-null   object \n",
      " 1   Name      7533 non-null   object \n",
      " 2   Country   7533 non-null   object \n",
      " 3   IPO_Year  4364 non-null   float64\n",
      " 4   Volome    7533 non-null   int64  \n",
      " 5   Sector    7533 non-null   object \n",
      " 6   Industry  7533 non-null   object \n",
      "dtypes: float64(1), int64(1), object(5)\n",
      "memory usage: 412.1+ KB\n"
     ]
    }
   ],
   "source": [
    "df_tickers.info()"
   ]
  },
  {
   "cell_type": "code",
   "execution_count": 193,
   "metadata": {},
   "outputs": [
    {
     "name": "stdout",
     "output_type": "stream",
     "text": [
      "Symbol         0\n",
      "Name           0\n",
      "Country        0\n",
      "IPO_Year    3169\n",
      "Volome         0\n",
      "Sector         0\n",
      "Industry       0\n",
      "dtype: int64\n"
     ]
    }
   ],
   "source": [
    "# Contar valores nulos en cada columna\n",
    "print(df_tickers.isnull().sum())"
   ]
  },
  {
   "cell_type": "markdown",
   "metadata": {},
   "source": [
    "Dado lo anterior, se determina que los años null se asignan como 1900"
   ]
  },
  {
   "cell_type": "code",
   "execution_count": 196,
   "metadata": {},
   "outputs": [
    {
     "name": "stdout",
     "output_type": "stream",
     "text": [
      "     Symbol                                               Name Country  \\\n",
      "2       AAC  Ares Acquisition Corporation Class A Ordinary ...           \n",
      "6      AACT  Ares Acquisition Corporation II Class A Ordina...           \n",
      "55     ACAQ  Athena Consumer Acquisition Corp. Class A Comm...           \n",
      "95     ACRO  Acropolis Infrastructure Acquisition Corp. Cla...           \n",
      "111    ADCT                  ADC Therapeutics SA Common Shares           \n",
      "...     ...                                                ...     ...   \n",
      "7491   ZETA    Zeta Global Holdings Corp. Class A Common Stock           \n",
      "7493    ZEV                 Lightning eMotors Inc Common Stock           \n",
      "7497    ZGN             Ermenegildo Zegna N.V. Ordinary Shares           \n",
      "7500    ZIM  ZIM Integrated Shipping Services Ltd. Ordinary...           \n",
      "7512   ZJYL     JIN MEDICAL INTERNATIONAL LTD. Ordinary Shares           \n",
      "\n",
      "      IPO_Year   Volome                  Sector  \\\n",
      "2       2021.0   108237             Industrials   \n",
      "6       2023.0    81968                           \n",
      "55      2021.0      110                 Finance   \n",
      "95      2021.0        1                 Finance   \n",
      "111     2020.0   170025             Health Care   \n",
      "...        ...      ...                     ...   \n",
      "7491    2021.0   179675              Technology   \n",
      "7493    2020.0    30719  Consumer Discretionary   \n",
      "7497    2021.0   366000  Consumer Discretionary   \n",
      "7500    2021.0  2171044  Consumer Discretionary   \n",
      "7512    2023.0    53454  Consumer Discretionary   \n",
      "\n",
      "                                        Industry  \n",
      "2                             Metal Fabrications  \n",
      "6                                                 \n",
      "55                                  Blank Checks  \n",
      "95                                  Blank Checks  \n",
      "111   Biotechnology: Pharmaceutical Preparations  \n",
      "...                                          ...  \n",
      "7491                                EDP Services  \n",
      "7493                          Auto Manufacturing  \n",
      "7497                                     Apparel  \n",
      "7500                       Marine Transportation  \n",
      "7512                      Industrial Specialties  \n",
      "\n",
      "[425 rows x 7 columns]\n"
     ]
    }
   ],
   "source": [
    "print(df_tickers[df_tickers['Country']==''])"
   ]
  },
  {
   "cell_type": "code",
   "execution_count": 197,
   "metadata": {},
   "outputs": [
    {
     "name": "stdout",
     "output_type": "stream",
     "text": [
      "      Symbol                                               Name  \\\n",
      "6       AACT  Ares Acquisition Corporation II Class A Ordina...   \n",
      "9     AAIC^B             Arlington Asset Investment Corp 7.00%    \n",
      "10    AAIC^C  Arlington Asset Investment Corp 8.250% Seies C...   \n",
      "13     AAM^A  Apollo Asset Management Inc. 6.375% Series A P...   \n",
      "14     AAM^B  Apollo Asset Management Inc. 6.375% Series B P...   \n",
      "...      ...                                                ...   \n",
      "7409  XFLT^A  XAI Octagon Floating Rate & Alternative Income...   \n",
      "7445    XXII               22nd Century Group Inc. Common Stock   \n",
      "7450  YCBD^A  cbdMD Inc. 8.0% Series A Cumulative Convertibl...   \n",
      "7475    YTEN               Yield10 Bioscience Inc. Common Stock   \n",
      "7479     YVR              Liquid Media Group Ltd. Common Shares   \n",
      "\n",
      "            Country  IPO_Year   Volome Sector Industry  \n",
      "6                      2023.0    81968                  \n",
      "9     United States       NaN       13                  \n",
      "10    United States       NaN     2011                  \n",
      "13    United States       NaN     1426                  \n",
      "14    United States       NaN     4403                  \n",
      "...             ...       ...      ...    ...      ...  \n",
      "7409  United States       NaN     1844                  \n",
      "7445  United States       NaN  1233851                  \n",
      "7450  United States       NaN    21690                  \n",
      "7475  United States    2006.0    38687                  \n",
      "7479         Canada       NaN   128967                  \n",
      "\n",
      "[634 rows x 7 columns]\n"
     ]
    }
   ],
   "source": [
    "print(df_tickers[df_tickers['Sector']==''])"
   ]
  },
  {
   "cell_type": "code",
   "execution_count": 198,
   "metadata": {},
   "outputs": [
    {
     "name": "stdout",
     "output_type": "stream",
     "text": [
      "      Symbol                                               Name  \\\n",
      "6       AACT  Ares Acquisition Corporation II Class A Ordina...   \n",
      "9     AAIC^B             Arlington Asset Investment Corp 7.00%    \n",
      "10    AAIC^C  Arlington Asset Investment Corp 8.250% Seies C...   \n",
      "13     AAM^A  Apollo Asset Management Inc. 6.375% Series A P...   \n",
      "14     AAM^B  Apollo Asset Management Inc. 6.375% Series B P...   \n",
      "...      ...                                                ...   \n",
      "7409  XFLT^A  XAI Octagon Floating Rate & Alternative Income...   \n",
      "7445    XXII               22nd Century Group Inc. Common Stock   \n",
      "7450  YCBD^A  cbdMD Inc. 8.0% Series A Cumulative Convertibl...   \n",
      "7475    YTEN               Yield10 Bioscience Inc. Common Stock   \n",
      "7479     YVR              Liquid Media Group Ltd. Common Shares   \n",
      "\n",
      "            Country  IPO_Year   Volome Sector Industry  \n",
      "6                      2023.0    81968                  \n",
      "9     United States       NaN       13                  \n",
      "10    United States       NaN     2011                  \n",
      "13    United States       NaN     1426                  \n",
      "14    United States       NaN     4403                  \n",
      "...             ...       ...      ...    ...      ...  \n",
      "7409  United States       NaN     1844                  \n",
      "7445  United States       NaN  1233851                  \n",
      "7450  United States       NaN    21690                  \n",
      "7475  United States    2006.0    38687                  \n",
      "7479         Canada       NaN   128967                  \n",
      "\n",
      "[634 rows x 7 columns]\n"
     ]
    }
   ],
   "source": [
    "print(df_tickers[df_tickers['Industry']==''])"
   ]
  },
  {
   "cell_type": "markdown",
   "metadata": {},
   "source": [
    "Se encontraron valores null para Country, sector e industria, estos valores deberán tener un id 1, y en sus dimensiones contendrán el string 'N/A' para dar una correcta presentación de datos en una interfaz de visualización como BI"
   ]
  },
  {
   "cell_type": "code",
   "execution_count": 194,
   "metadata": {},
   "outputs": [
    {
     "name": "stdout",
     "output_type": "stream",
     "text": [
      "Cantidad de símbolos únicos: 7533\n"
     ]
    }
   ],
   "source": [
    "#Count the unique symbols in the data\n",
    "unique_tickers_count = df_tickers['Symbol'].nunique()\n",
    "print(f\"Cantidad de símbolos únicos: {unique_tickers_count}\")"
   ]
  },
  {
   "cell_type": "code",
   "execution_count": 195,
   "metadata": {},
   "outputs": [
    {
     "name": "stdout",
     "output_type": "stream",
     "text": [
      "Cntidad de Symbol repetidos: {}\n"
     ]
    }
   ],
   "source": [
    "#Cantidad de duplicados\n",
    "symbol_column = df_tickers['Symbol']\n",
    "symbol_count = Counter(symbol_column)\n",
    "repeated_symbols = {symbol: count for symbol, count in symbol_count.items() if count > 1}\n",
    "print(f'Cntidad de Symbol repetidos: {repeated_symbols}')"
   ]
  },
  {
   "cell_type": "markdown",
   "metadata": {},
   "source": [
    "## EDA Para GIDS Directory"
   ]
  },
  {
   "cell_type": "code",
   "execution_count": 277,
   "metadata": {},
   "outputs": [],
   "source": [
    "with connection.cursor() as cursor:\n",
    "    cursor.execute(\"SELECT * FROM tbgidsdirectory;\")\n",
    "    columns = [desc[0] for desc in cursor.description]\n",
    "    data = cursor.fetchall()\n",
    "    df_gids = pd.DataFrame(data, columns=columns)"
   ]
  },
  {
   "cell_type": "code",
   "execution_count": 278,
   "metadata": {},
   "outputs": [
    {
     "data": {
      "text/html": [
       "<div>\n",
       "<style scoped>\n",
       "    .dataframe tbody tr th:only-of-type {\n",
       "        vertical-align: middle;\n",
       "    }\n",
       "\n",
       "    .dataframe tbody tr th {\n",
       "        vertical-align: top;\n",
       "    }\n",
       "\n",
       "    .dataframe thead th {\n",
       "        text-align: right;\n",
       "    }\n",
       "</style>\n",
       "<table border=\"1\" class=\"dataframe\">\n",
       "  <thead>\n",
       "    <tr style=\"text-align: right;\">\n",
       "      <th></th>\n",
       "      <th>Symbol</th>\n",
       "      <th>Name</th>\n",
       "      <th>Type</th>\n",
       "    </tr>\n",
       "  </thead>\n",
       "  <tbody>\n",
       "    <tr>\n",
       "      <th>0</th>\n",
       "      <td>COMP</td>\n",
       "      <td>NASDAQ Composite</td>\n",
       "      <td>I</td>\n",
       "    </tr>\n",
       "    <tr>\n",
       "      <th>1</th>\n",
       "      <td>INDS</td>\n",
       "      <td>Nasdaq Industrial</td>\n",
       "      <td>I</td>\n",
       "    </tr>\n",
       "    <tr>\n",
       "      <th>2</th>\n",
       "      <td>BANK</td>\n",
       "      <td>Nasdaq Bank</td>\n",
       "      <td>I</td>\n",
       "    </tr>\n",
       "    <tr>\n",
       "      <th>3</th>\n",
       "      <td>INSR</td>\n",
       "      <td>Nasdaq Insurance</td>\n",
       "      <td>I</td>\n",
       "    </tr>\n",
       "    <tr>\n",
       "      <th>4</th>\n",
       "      <td>OFIN</td>\n",
       "      <td>Nasdaq Real Estate and Other Financial Services</td>\n",
       "      <td>I</td>\n",
       "    </tr>\n",
       "  </tbody>\n",
       "</table>\n",
       "</div>"
      ],
      "text/plain": [
       "  Symbol                                             Name Type\n",
       "0   COMP                                 NASDAQ Composite    I\n",
       "1   INDS                                Nasdaq Industrial    I\n",
       "2   BANK                                      Nasdaq Bank    I\n",
       "3   INSR                                 Nasdaq Insurance    I\n",
       "4   OFIN  Nasdaq Real Estate and Other Financial Services    I"
      ]
     },
     "execution_count": 278,
     "metadata": {},
     "output_type": "execute_result"
    }
   ],
   "source": [
    "df_gids.head()"
   ]
  },
  {
   "cell_type": "code",
   "execution_count": 279,
   "metadata": {},
   "outputs": [
    {
     "data": {
      "text/plain": [
       "Index(['Symbol', 'Name', 'Type'], dtype='object')"
      ]
     },
     "execution_count": 279,
     "metadata": {},
     "output_type": "execute_result"
    }
   ],
   "source": [
    "df_gids.columns"
   ]
  },
  {
   "cell_type": "code",
   "execution_count": 280,
   "metadata": {},
   "outputs": [
    {
     "data": {
      "text/html": [
       "<div>\n",
       "<style scoped>\n",
       "    .dataframe tbody tr th:only-of-type {\n",
       "        vertical-align: middle;\n",
       "    }\n",
       "\n",
       "    .dataframe tbody tr th {\n",
       "        vertical-align: top;\n",
       "    }\n",
       "\n",
       "    .dataframe thead th {\n",
       "        text-align: right;\n",
       "    }\n",
       "</style>\n",
       "<table border=\"1\" class=\"dataframe\">\n",
       "  <thead>\n",
       "    <tr style=\"text-align: right;\">\n",
       "      <th></th>\n",
       "      <th>Symbol</th>\n",
       "      <th>Name</th>\n",
       "      <th>Type</th>\n",
       "    </tr>\n",
       "  </thead>\n",
       "  <tbody>\n",
       "    <tr>\n",
       "      <th>count</th>\n",
       "      <td>9975</td>\n",
       "      <td>9975</td>\n",
       "      <td>9975</td>\n",
       "    </tr>\n",
       "    <tr>\n",
       "      <th>unique</th>\n",
       "      <td>9975</td>\n",
       "      <td>9966</td>\n",
       "      <td>3</td>\n",
       "    </tr>\n",
       "    <tr>\n",
       "      <th>top</th>\n",
       "      <td>COMP</td>\n",
       "      <td>Nasdaq Nordea SmartBeta Dividend Momentum Beta...</td>\n",
       "      <td>I</td>\n",
       "    </tr>\n",
       "    <tr>\n",
       "      <th>freq</th>\n",
       "      <td>1</td>\n",
       "      <td>3</td>\n",
       "      <td>9681</td>\n",
       "    </tr>\n",
       "  </tbody>\n",
       "</table>\n",
       "</div>"
      ],
      "text/plain": [
       "       Symbol                                               Name  Type\n",
       "count    9975                                               9975  9975\n",
       "unique   9975                                               9966     3\n",
       "top      COMP  Nasdaq Nordea SmartBeta Dividend Momentum Beta...     I\n",
       "freq        1                                                  3  9681"
      ]
     },
     "execution_count": 280,
     "metadata": {},
     "output_type": "execute_result"
    }
   ],
   "source": [
    "df_gids.describe()"
   ]
  },
  {
   "cell_type": "code",
   "execution_count": 281,
   "metadata": {},
   "outputs": [
    {
     "data": {
      "text/plain": [
       "(9975, 3)"
      ]
     },
     "execution_count": 281,
     "metadata": {},
     "output_type": "execute_result"
    }
   ],
   "source": [
    "df_gids.shape"
   ]
  },
  {
   "cell_type": "code",
   "execution_count": 282,
   "metadata": {},
   "outputs": [
    {
     "name": "stdout",
     "output_type": "stream",
     "text": [
      "<class 'pandas.core.frame.DataFrame'>\n",
      "RangeIndex: 9975 entries, 0 to 9974\n",
      "Data columns (total 3 columns):\n",
      " #   Column  Non-Null Count  Dtype \n",
      "---  ------  --------------  ----- \n",
      " 0   Symbol  9975 non-null   object\n",
      " 1   Name    9975 non-null   object\n",
      " 2   Type    9975 non-null   object\n",
      "dtypes: object(3)\n",
      "memory usage: 233.9+ KB\n"
     ]
    }
   ],
   "source": [
    "df_gids.info()"
   ]
  },
  {
   "cell_type": "code",
   "execution_count": 283,
   "metadata": {},
   "outputs": [
    {
     "name": "stdout",
     "output_type": "stream",
     "text": [
      "Symbol    0\n",
      "Name      0\n",
      "Type      0\n",
      "dtype: int64\n"
     ]
    }
   ],
   "source": [
    "# Contar valores nulos en cada columna\n",
    "print(df_gids.isnull().sum())"
   ]
  },
  {
   "cell_type": "code",
   "execution_count": 284,
   "metadata": {},
   "outputs": [
    {
     "name": "stdout",
     "output_type": "stream",
     "text": [
      "Cantidad de símbolos únicos: 9975\n"
     ]
    }
   ],
   "source": [
    "#Count the unique symbols in the data\n",
    "unique_gids_count = df_gids['Symbol'].nunique()\n",
    "print(f\"Cantidad de símbolos únicos: {unique_gids_count}\")"
   ]
  },
  {
   "cell_type": "code",
   "execution_count": 285,
   "metadata": {},
   "outputs": [
    {
     "name": "stdout",
     "output_type": "stream",
     "text": [
      "Cantidad de Symbol repetidos: {}\n"
     ]
    }
   ],
   "source": [
    "from collections import Counter\n",
    "symbol_column_gids = df_gids['Symbol']\n",
    "symbol_count_gids = Counter(symbol_column_gids)\n",
    "repeated_symbols_gids = {symbol: count for symbol, count in symbol_count_gids.items() if count > 1}\n",
    "print(f'Cantidad de Symbol repetidos: {repeated_symbols_gids}')"
   ]
  },
  {
   "cell_type": "code",
   "execution_count": 286,
   "metadata": {},
   "outputs": [
    {
     "name": "stdout",
     "output_type": "stream",
     "text": [
      "Cantidad de Names repetidos: {}\n"
     ]
    }
   ],
   "source": [
    "from collections import Counter\n",
    "Name_column_gids = df_gids['Symbol']\n",
    "Name_count_gids = Counter(Name_column_gids)\n",
    "repeated_Name_gids = {symbol: count for symbol, count in Name_count_gids.items() if count > 1}\n",
    "print(f'Cantidad de Names repetidos: {repeated_Name_gids}')"
   ]
  },
  {
   "cell_type": "markdown",
   "metadata": {},
   "source": [
    "#### En la data hay un problema, ya que los 'Name' deberían traer valores únicos como 'nasdaq-100' o 'S&P 500', para corregirlo, se hace una lista previa de estos valores para incluirlos en el ETL construyendo las expresiones regulares necesarias"
   ]
  },
  {
   "cell_type": "code",
   "execution_count": 167,
   "metadata": {},
   "outputs": [],
   "source": [
    "pattern = r'(\\bNasdaq-100\\b)|(\\bNasdaq\\b)|(\\b[A-Z]+ ETF\\b)|(\\b[A-Z]+ Muni Bond ETF\\b)' +\\\n",
    "        r'|(\\bS&P\\b)|(\\bNASDAQ\\b)|(\\bThe Capital Strength\\b)|(\\bSettle\\b.*)|(\\bFidelity Disruptive\\b.*)' + \\\n",
    "        r'|(\\bPHLX\\b)|(\\bThe Capital Strength\\b)|(\\bOMX\\b)|(\\bOMRX\\b)|(\\bFirst North\\b)'+\\\n",
    "        r'|(\\bDorsey Wright\\b)|(\\bCompass EMP\\b)|(\\bGlobal X\\b)|(\\bOptimal Blue 30Yr\\b)'+\\\n",
    "        r'|(\\bStrategic Technology & Ecommerce\\b)|(\\Strategic Hotel & Lodging\\b)|(\\bStrategic E-Commerce\\b)'+\\\n",
    "        r'|(\\bStrategic Fintech & Digital Payments\\b)|(\\bCRSP US\\b)'"
   ]
  }
 ],
 "metadata": {
  "interpreter": {
   "hash": "31f2aee4e71d21fbe5cf8b01ff0e069b9275f58929596ceb00d14d90e3e16cd6"
  },
  "kernelspec": {
   "display_name": "Python 3.8.10 64-bit",
   "language": "python",
   "name": "python3"
  },
  "language_info": {
   "codemirror_mode": {
    "name": "ipython",
    "version": 3
   },
   "file_extension": ".py",
   "mimetype": "text/x-python",
   "name": "python",
   "nbconvert_exporter": "python",
   "pygments_lexer": "ipython3",
   "version": "3.11.4"
  },
  "orig_nbformat": 4
 },
 "nbformat": 4,
 "nbformat_minor": 2
}
