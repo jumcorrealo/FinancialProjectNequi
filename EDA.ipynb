{
 "cells": [
  {
   "cell_type": "code",
   "execution_count": null,
   "metadata": {},
   "outputs": [],
   "source": [
    "import matplotlib.pyplot as plt\n",
    "import seaborn as sns\n",
    "import yfinance as yf\n",
    "import csv\n",
    "import random\n",
    "import pandas as pd\n",
    "from tqdm import tqdm\n",
    "import datetime\n",
    "import logging\n",
    "import re\n",
    "import configparser\n",
    "import psycopg2\n",
    "import socket\n",
    "import sys"
   ]
  },
  {
   "cell_type": "code",
   "execution_count": null,
   "metadata": {},
   "outputs": [],
   "source": [
    "config = configparser.ConfigParser()\n",
    "config.read('../config.ini')\n",
    "\n",
    "# Get the database credentials\n",
    "db_endpoint = config['database']['host']\n",
    "db_name = config['database']['database_name']\n",
    "db_user = config['database']['username']\n",
    "db_password = config['database']['password']\n",
    "db_port = int(config['database']['port'])\n",
    "\n",
    "# Set the timeout for the connection attempt (in seconds)\n",
    "connection_timeout = 10\n",
    "\n",
    "try:    \n",
    "    # Now establish the database connection using psycopg2\n",
    "    connection = psycopg2.connect(\n",
    "        host=db_endpoint,\n",
    "        port = db_port,\n",
    "        database = db_name,\n",
    "        user=db_user,\n",
    "        password=db_password\n",
    "    )\n",
    "    print(\"Connected successfully!\")\n",
    "    \n",
    "\n",
    "except (socket.timeout, psycopg2.OperationalError) as e:\n",
    "    if isinstance(e, socket.timeout):\n",
    "        print(\"Error: Connection timed out.\")\n",
    "    else:\n",
    "        print(\"Error during connection:\", e)\n",
    "    sys.exit(1)  # Terminate the program with a non-zero exit code"
   ]
  },
  {
   "cell_type": "markdown",
   "metadata": {},
   "source": [
    "## Eda para Trading Historic"
   ]
  },
  {
   "cell_type": "code",
   "execution_count": null,
   "metadata": {},
   "outputs": [],
   "source": [
    "with connection.cursor() as cursor:\n",
    "    cursor.execute(\"SELECT * FROM tbTradingHistoric;\")\n",
    "    columns = [desc[0] for desc in cursor.description]\n",
    "    data = cursor.fetchall()\n",
    "    df_trading_historic = pd.DataFrame(data, columns=columns)"
   ]
  },
  {
   "cell_type": "code",
   "execution_count": null,
   "metadata": {},
   "outputs": [],
   "source": [
    "df_trading_historic.head()"
   ]
  },
  {
   "cell_type": "code",
   "execution_count": null,
   "metadata": {},
   "outputs": [],
   "source": [
    "df_trading_historic.columns"
   ]
  },
  {
   "cell_type": "code",
   "execution_count": null,
   "metadata": {},
   "outputs": [],
   "source": [
    "# Resumen estadístico básico\n",
    "print(df_trading_historic.describe())"
   ]
  },
  {
   "cell_type": "code",
   "execution_count": null,
   "metadata": {},
   "outputs": [],
   "source": [
    "# Información general del DataFrame\n",
    "print(df_trading_historic.info())"
   ]
  },
  {
   "cell_type": "code",
   "execution_count": null,
   "metadata": {},
   "outputs": [],
   "source": [
    "# Contar valores nulos en cada columna\n",
    "print(df_trading_historic.isnull().sum())"
   ]
  },
  {
   "cell_type": "code",
   "execution_count": null,
   "metadata": {},
   "outputs": [],
   "source": [
    "#Find the duplicates\n",
    "\n",
    "duplicate_regist = df_trading_historic.duplicated().sum()\n",
    "print(f\"Cantidad de registros duplicados: {duplicate_regist}\")"
   ]
  },
  {
   "cell_type": "code",
   "execution_count": null,
   "metadata": {},
   "outputs": [],
   "source": [
    "#Count the unique symbols in the data\n",
    "unique_symbols_count = df_trading_historic['Symbol'].nunique()\n",
    "print(f\"Cantidad de símbolos únicos: {unique_symbols_count}\")"
   ]
  },
  {
   "cell_type": "code",
   "execution_count": null,
   "metadata": {},
   "outputs": [],
   "source": [
    "plt.boxplot(df_trading_historic[df_trading_historic['Symbol']=='A']['Open'])"
   ]
  },
  {
   "cell_type": "code",
   "execution_count": null,
   "metadata": {},
   "outputs": [],
   "source": [
    "df_trading_historic.head()"
   ]
  },
  {
   "cell_type": "code",
   "execution_count": null,
   "metadata": {},
   "outputs": [],
   "source": [
    "# Step 1: Convert 'Date' column to datetime type\n",
    "df_trading_historic['Date'] = pd.to_datetime(df_trading_historic['Date'])\n",
    "\n",
    "# Step 2: Drop rows with missing values in the 'Close' column\n",
    "df_trading_historic.dropna(subset=['Close'], inplace=True)\n",
    "\n",
    "# Step 3: Group by symbol and calculate the percentage growth between the first and last closing prices\n",
    "symbol_growth = df_trading_historic.groupby('Symbol').agg(\n",
    "    first_close=('Close', 'first'),\n",
    "    last_close=('Close', 'last'),\n",
    "    percentage_growth=('Close', lambda x: (x.iloc[-1] - x.iloc[0]) / x.iloc[0] * 100)\n",
    ").reset_index()\n",
    "\n",
    "# Step 4: Create a new DataFrame with the calculated percentage growth and closing prices\n",
    "df_symbol_growth = pd.DataFrame(symbol_growth, columns=['Symbol', 'first_close', 'last_close', 'percentage_growth'])\n",
    "\n",
    "# Step 5: Sort the new DataFrame in descending order based on the percentage growth\n",
    "df_symbol_growth = df_symbol_growth.sort_values(by='percentage_growth', ascending=False)\n",
    "\n",
    "# Print the result\n",
    "print(df_symbol_growth)"
   ]
  },
  {
   "cell_type": "code",
   "execution_count": null,
   "metadata": {},
   "outputs": [],
   "source": [
    "SELECT column_name\n",
    "FROM INFORMATION_SCHEMA.COLUMNS\n",
    "WHERE table_name = 'tbtradinghistoric';"
   ]
  },
  {
   "cell_type": "markdown",
   "metadata": {},
   "source": []
  },
  {
   "cell_type": "markdown",
   "metadata": {},
   "source": [
    "## Eda para tickers"
   ]
  },
  {
   "cell_type": "code",
   "execution_count": null,
   "metadata": {},
   "outputs": [],
   "source": [
    "with connection.cursor() as cursor:\n",
    "    cursor.execute(\"SELECT * FROM tbtickers;\")\n",
    "    columns = [desc[0] for desc in cursor.description]\n",
    "    data = cursor.fetchall()\n",
    "    df_tickers = pd.DataFrame(data, columns=columns)"
   ]
  },
  {
   "cell_type": "code",
   "execution_count": null,
   "metadata": {},
   "outputs": [],
   "source": [
    "df_tickers.head()"
   ]
  },
  {
   "cell_type": "code",
   "execution_count": null,
   "metadata": {},
   "outputs": [],
   "source": [
    "df_tickers.columns"
   ]
  },
  {
   "cell_type": "code",
   "execution_count": null,
   "metadata": {},
   "outputs": [],
   "source": [
    "df_tickers.describe()"
   ]
  },
  {
   "cell_type": "code",
   "execution_count": null,
   "metadata": {},
   "outputs": [],
   "source": [
    "df_tickers.info()"
   ]
  },
  {
   "cell_type": "code",
   "execution_count": null,
   "metadata": {},
   "outputs": [],
   "source": [
    "# Contar valores nulos en cada columna\n",
    "print(df_tickers.isnull().sum())"
   ]
  },
  {
   "cell_type": "code",
   "execution_count": null,
   "metadata": {},
   "outputs": [],
   "source": [
    "#Count the unique symbols in the data\n",
    "unique_tickers_count = df_tickers['Symbol'].nunique()\n",
    "print(f\"Cantidad de símbolos únicos: {unique_tickers_count}\")"
   ]
  },
  {
   "cell_type": "code",
   "execution_count": null,
   "metadata": {},
   "outputs": [],
   "source": [
    "from collections import Counter\n",
    "symbol_column = df_tickers['Symbol']\n",
    "symbol_count = Counter(symbol_column)\n",
    "repeated_symbols = {symbol: count for symbol, count in symbol_count.items() if count > 1}\n",
    "print(f'Cntidad de Symbol repetidos: {repeated_symbols}')"
   ]
  },
  {
   "cell_type": "code",
   "execution_count": null,
   "metadata": {},
   "outputs": [],
   "source": []
  },
  {
   "cell_type": "markdown",
   "metadata": {},
   "source": [
    "## EDA Para GIDS Directory"
   ]
  },
  {
   "cell_type": "code",
   "execution_count": null,
   "metadata": {},
   "outputs": [],
   "source": [
    "with connection.cursor() as cursor:\n",
    "    cursor.execute(\"SELECT * FROM tbgidsdirectory;\")\n",
    "    columns = [desc[0] for desc in cursor.description]\n",
    "    data = cursor.fetchall()\n",
    "    df_gids = pd.DataFrame(data, columns=columns)"
   ]
  },
  {
   "cell_type": "code",
   "execution_count": null,
   "metadata": {},
   "outputs": [],
   "source": [
    "df_gids.head()"
   ]
  },
  {
   "cell_type": "code",
   "execution_count": null,
   "metadata": {},
   "outputs": [],
   "source": [
    "df_gids.columns"
   ]
  },
  {
   "cell_type": "code",
   "execution_count": null,
   "metadata": {},
   "outputs": [],
   "source": [
    "df_gids.describe()"
   ]
  },
  {
   "cell_type": "code",
   "execution_count": null,
   "metadata": {},
   "outputs": [],
   "source": [
    "df_gids.info()"
   ]
  },
  {
   "cell_type": "code",
   "execution_count": null,
   "metadata": {},
   "outputs": [],
   "source": [
    "# Contar valores nulos en cada columna\n",
    "print(df_gids.isnull().sum())"
   ]
  },
  {
   "cell_type": "code",
   "execution_count": null,
   "metadata": {},
   "outputs": [],
   "source": [
    "#Count the unique symbols in the data\n",
    "unique_gids_count = df_gids['Symbol'].nunique()\n",
    "print(f\"Cantidad de símbolos únicos: {unique_gids_count}\")"
   ]
  },
  {
   "cell_type": "code",
   "execution_count": null,
   "metadata": {},
   "outputs": [],
   "source": [
    "from collections import Counter\n",
    "symbol_column_gids = df_gids['Symbol']\n",
    "symbol_count_gids = Counter(symbol_column_gids)\n",
    "repeated_symbols_gids = {symbol: count for symbol, count in symbol_count_gids.items() if count > 1}\n",
    "print(f'Cantidad de Symbol repetidos: {repeated_symbols_gids}')"
   ]
  },
  {
   "cell_type": "code",
   "execution_count": null,
   "metadata": {},
   "outputs": [],
   "source": [
    "from collections import Counter\n",
    "Name_column_gids = df_gids['Symbol']\n",
    "Name_count_gids = Counter(Name_column_gids)\n",
    "repeated_Name_gids = {symbol: count for symbol, count in Name_count_gids.items() if count > 1}\n",
    "print(f'Cantidad de Names repetidos: {repeated_Name_gids}')"
   ]
  },
  {
   "cell_type": "markdown",
   "metadata": {},
   "source": [
    "#### acá hay un problema, ya que la idea de los name es que traigan valores únicos como nasdaq-100 o S&P 500, por lo que hay que corregirlo en la ETL, por lo que es ideal hacer una lista previa de estos valores para incluirlos en el ETL"
   ]
  },
  {
   "cell_type": "code",
   "execution_count": 167,
   "metadata": {},
   "outputs": [],
   "source": [
    "pattern = r'(\\bNasdaq-100\\b)|(\\bNasdaq\\b)|(\\b[A-Z]+ ETF\\b)|(\\b[A-Z]+ Muni Bond ETF\\b)' +\\\n",
    "        r'|(\\bS&P\\b)|(\\bNASDAQ\\b)|(\\bThe Capital Strength\\b)|(\\bSettle\\b.*)|(\\bFidelity Disruptive\\b.*)' + \\\n",
    "        r'|(\\bPHLX\\b)|(\\bThe Capital Strength\\b)|(\\bOMX\\b)|(\\bOMRX\\b)|(\\bFirst North\\b)'+\\\n",
    "        r'|(\\bDorsey Wright\\b)|(\\bCompass EMP\\b)|(\\bGlobal X\\b)|(\\bOptimal Blue 30Yr\\b)'+\\\n",
    "        r'|(\\bStrategic Technology & Ecommerce\\b)|(\\Strategic Hotel & Lodging\\b)|(\\bStrategic E-Commerce\\b)'+\\\n",
    "        r'|(\\bStrategic Fintech & Digital Payments\\b)|(\\bCRSP US\\b)'"
   ]
  },
  {
   "cell_type": "code",
   "execution_count": 165,
   "metadata": {},
   "outputs": [
    {
     "name": "stdout",
     "output_type": "stream",
     "text": [
      "       Symbol                                             Name  \\\n",
      "0        COMP                                 NASDAQ Composite   \n",
      "1        INDS                                Nasdaq Industrial   \n",
      "2        BANK                                      Nasdaq Bank   \n",
      "3        INSR                                 Nasdaq Insurance   \n",
      "4        OFIN  Nasdaq Real Estate and Other Financial Services   \n",
      "...       ...                                              ...   \n",
      "9970     CALY    BlackRock Short-Term California Muni Bond ETF   \n",
      "9971   XNDX7E           Nasdaq-100 Volatility Control 7% Index   \n",
      "9972  XNDX10E          Nasdaq-100 Volatility Control 10% Index   \n",
      "9973  XNDX12E          Nasdaq-100 Volatility Control 12% Index   \n",
      "9974     JPEF                        JPMorgan Equity Focus ETF   \n",
      "\n",
      "                                       Grouped Name  \n",
      "0                                            NASDAQ  \n",
      "1                                            Nasdaq  \n",
      "2                                            Nasdaq  \n",
      "3                                            Nasdaq  \n",
      "4                                            Nasdaq  \n",
      "...                                             ...  \n",
      "9970  BlackRock Short-Term California Muni Bond ETF  \n",
      "9971                                     Nasdaq-100  \n",
      "9972                                     Nasdaq-100  \n",
      "9973                                     Nasdaq-100  \n",
      "9974                      JPMorgan Equity Focus ETF  \n",
      "\n",
      "[9975 rows x 3 columns]\n"
     ]
    }
   ],
   "source": [
    "\n",
    "# Función para agrupar nombres similares\n",
    "def group_names(name):\n",
    "    # Expresión regular para buscar patrones en el nombre\n",
    "    pattern = r'(\\bNasdaq-100\\b)|(\\bNasdaq\\b)|(\\b[A-Z]+ ETF\\b)|(\\b[A-Z]+ Muni Bond ETF\\b)' +\\\n",
    "            r'|(\\bS&P\\b)|(\\bNASDAQ\\b)|(\\bThe Capital Strength\\b)|(\\bSettle\\b.*)|(\\bFidelity Disruptive\\b.*)' + \\\n",
    "            r'|(\\bPHLX\\b)|(\\bThe Capital Strength\\b)|(\\bOMX\\b)|(\\bOMRX\\b)|(\\bFirst North\\b)'+\\\n",
    "            r'|(\\bDorsey Wright\\b)|(\\bCompass EMP\\b)|(\\bGlobal X\\b)|(\\bOptimal Blue 30Yr\\b)'+\\\n",
    "            r'|(\\bStrategic Technology & Ecommerce\\b)|(\\Strategic Hotel & Lodging\\b)|(\\bStrategic E-Commerce\\b)'+\\\n",
    "            r'|(\\bStrategic Fintech & Digital Payments\\b)|(\\bCRSP US\\b)'\n",
    "\n",
    "    match = re.search(pattern, name)\n",
    "    if match:\n",
    "        return match.group()\n",
    "    return name\n",
    "\n",
    "# Aplicar la función a la columna 'Name' para obtener la nueva columna 'Grouped Name'\n",
    "df_gids['Grouped Name'] = df_gids['Name'].apply(group_names)\n",
    "\n",
    "# Mostrar el DataFrame resultante con las columnas 'Symbol', 'Name' y 'Grouped Name'\n",
    "print(df_gids[['Symbol', 'Name', 'Grouped Name']])\n"
   ]
  },
  {
   "cell_type": "code",
   "execution_count": 166,
   "metadata": {},
   "outputs": [
    {
     "name": "stdout",
     "output_type": "stream",
     "text": [
      "['NASDAQ', 'Nasdaq', 'PHLX', 'The Capital Strength', 'Settle - NASDAQ Composite', 'Settle - NASDAQ-100', 'Settle - NASDAQ Biotechnology', 'Settle - PHLX Gold/Silver Sector', 'Settle - PHLX Semiconductor', 'Settle - PHLX Housing Sector', 'Settle - PHLX Oil Service Sector', 'Settle - PHLX Utility Sector', 'Settle - Australian WCO', 'Settle - British Pounds WCO', 'Settle - Canadian Dollars WCO', 'Settle - Euros WCO', 'Settle - Japanese Yen WCO', 'Settle - Swiss Francs WCO', 'Settle - New Zealand WCO', 'OMX', 'OMX_Baltic_Benchmark_PI', 'OMX_Baltic_GI', 'OMX_Baltic_PI', 'Dorsey Wright', 'Endowment Index', 'First North', 'N Energy EUR GI', 'N Energy EUR PI', 'N Basic Materials EUR GI', 'N Basic Materials EUR PI', 'N Chemicals EUR GI', 'N Chemicals EUR PI', 'N Basic Resources EUR GI', 'N Basic Resources EUR PI', 'N Industrials EUR GI', 'N Industrials EUR PI', 'N Construction and Materials EUR GI', 'N Construction and Materials EUR PI', 'N Industrial Goods and Services EUR GI', 'N Industrial Goods and Services EUR PI', 'N Automobiles and Parts EUR GI', 'N Automobiles and Parts EUR PI', 'N Food, Beverage and Tobacco  EUR GI', 'N Food, Beverage and Tobacco  EUR PI', 'N Consumer Products and Services EUR GI', 'N Consumer Products and Services EUR PI', 'N Health Care EUR GI', 'N Health Care EUR PI', 'N Retail EUR GI', 'N Retail EUR PI', 'N Media EUR GI', 'N Media EUR PI', 'N Travel and Leisure EUR GI', 'N Travel and Leisure EUR PI', 'N Telecommunications EUR GI', 'N Telecommunications EUR PI', 'N Utilities EUR GI', 'N Utilities EUR PI', 'N Financials EUR GI', 'N Financials EUR PI', 'N Banks EUR GI', 'N Banks EUR PI', 'N Insurance EUR GI', 'N Insurance EUR PI', 'N Real Estate EUR GI', 'N Real Estate EUR PI', 'N Financial Services EUR GI', 'N Financial Services EUR PI', 'N Technology EUR GI', 'N Technology EUR PI', 'OMX_Baltic_10', 'OMX_Baltic_10_GI', 'OMX_Baltic_Benchmark_Cap_GI', 'OMX_Baltic_Benchmark_Cap_PI', 'OMX_Baltic_Benchmark_GI', 'OMX_Copenhagen_Large_Cap_GI', 'OMX_Copenhagen_Large_Cap_PI', 'OMX_Copenhagen_Mid_Cap_GI', 'OMX_Copenhagen_Mid_Cap_PI', 'OMX_Copenhagen_Small_Cap_GI', 'OMX_Copenhagen_Small_Cap_PI', 'OMX_Helsinki_Large_Cap_GI', 'OMX_Helsinki_Large_Cap_PI', 'OMX_Helsinki_Mid_Cap_GI', 'OMX_Helsinki_Mid_Cap_PI', 'OMX_Helsinki_Small_Cap_GI', 'OMX_Helsinki_Small_Cap_PI', 'OMX_Nordic_Large_Cap_DKK_GI', 'OMX_Nordic_Large_Cap_DKK_PI', 'OMX_Nordic_Large_Cap_EUR_GI', 'OMX_Nordic_Large_Cap_EUR_PI', 'OMX_Nordic_Large_Cap_ISK_GI', 'OMX_Nordic_Large_Cap_ISK_PI', 'OMX_Nordic_Large_Cap_SEK_GI', 'OMX_Nordic_Large_Cap_SEK_PI', 'OMX_Nordic_Mid_Cap_DKK_GI', 'OMX_Nordic_Mid_Cap_DKK_PI', 'OMX_Nordic_Mid_Cap_EUR_GI', 'OMX_Nordic_Mid_Cap_EUR_PI', 'OMX_Nordic_Mid_Cap_ISK_GI', 'OMX_Nordic_Mid_Cap_ISK_PI', 'OMX_Nordic_Mid_Cap_SEK_GI', 'OMX_Nordic_Mid_Cap_SEK_PI', 'OMX_Nordic_DKK_GI', 'OMX_Nordic_DKK_PI', 'OMX_Nordic_EUR_GI', 'OMX_Nordic_EUR_PI', 'OMX_Nordic_ISK_GI', 'OMX_Nordic_ISK_PI', 'OMX_Nordic_SEK_GI', 'OMX_Nordic_SEK_PI', 'OMX_Nordic_Small_Cap_DKK_GI', 'OMX_Nordic_Small_Cap_DKK_PI', 'OMX_Nordic_Small_Cap_EUR_GI', 'OMX_Nordic_Small_Cap_EUR_PI', 'OMX_Nordic_Small_Cap_ISK_GI', 'OMX_Nordic_Small_Cap_ISK_PI', 'OMX_Nordic_Small_Cap_SEK_GI', 'OMX_Nordic_Small_Cap_SEK_PI', 'OMX_Stockholm_Large_Cap_GI', 'OMX_Stockholm_Large_Cap_PI', 'OMX_Stockholm_Mid_Cap_GI', 'OMX_Stockholm_Mid_Cap_PI', 'OMX_Stockholm_Small_Cap_GI', 'OMX_Stockholm_Small_Cap_PI', 'Settle-KBW Nasdaq Bank Index', 'Settle-KBW Nasdaq Insurance Index', 'Settle-KBW Nasdaq Capital Markets Index', 'Settle-KBW Nasdaq Regional Banking Index', 'DWA MLP Select Index', 'DWA MLP Select Total Return Index', 'DWA MLP Select NTR Index', 'Nasdaq-100', 'OMRX', 'Swedish Government Bond 1-15', 'NQXAUHAUD Monthly Currency Hedged', 'NQXAUHAUDT Monthly Currency Hedged', 'NQXAUHAUDN Monthly Currency Hedged', 'NQXAUAGRAUD Monthly Currency Hedged', 'NQXAUAGRAUDN Monthly Currency Hedged', 'NQXAUAGRAUDT Monthly Currency Hedged', 'NQXAUBAUD Monthly Currency Hedged', 'NQXAUBAUDN Monthly Currency Hedged', 'NQXAUBAUDT Monthly Currency Hedged', 'NQXAUEAUD Monthly Currency Hedged', 'NQXAUEAUDN Monthly Currency Hedged', 'NQXAUEAUDT Monthly Currency Hedged', 'NQXAUGLDAUD Monthly Currency Hedged', 'NQXAUGLDAUDN Monthly Currency Hedged', 'NQXAUGLDAUDT Monthly Currency Hedged', 'ISE BICK Index', 'ISE BICK Total Return Index', 'ISE BICK Net Total Return Index', 'ISE-Revere Natural Gas Index', 'ISE-Revere Natural Gas Total Return Index', 'ISE-Revere Natural Gas Net Total Return Index', 'ISE Clean Edge Global Wind Energy Index', 'ISE Clean Edge Global Wind Energy Total Return Ind', 'ISE Clean Edge Global Wind Energy Net Total Return', 'ISE Clean Edge Water Index', 'ISE Clean Edge Water Total Return Index', 'ISE Clean Edge Water Net Total Return Index', 'ISE Cyber Security Index', 'ISE Cyber Security Total Return Index', 'ISE Cyber Security Net Total Return Index', 'ISE Cyber Security UCITS Index', 'ISE Cyber Security UCITS Total Return Index', 'ISE Cyber Security UCITS Net Total Return Index', 'Horizon Kinetics ISE International Wealth Index', 'Horizon Kinetics ISE International Wealth TR Index', 'Horizon Kinetics ISE International Wealth NTR', 'ISE Mobile Payments Index', 'ISE Mobile Payments Total Return Index', 'ISE Mobile Payments Net Total Return Index', 'ISE ETF', 'ISE High Income Index', 'ISE High Income Total Return Index', 'ISE High Income Net Total Return Index', 'Horizon Kinetics ISE Global Wealth Index', 'Horizon Kinetics ISE Global Wealth TR Index', 'Horizon Kinetics ISE Global Wealth NTR Index', 'ISE CTA Cloud Computing Index', 'ISE CTA Cloud Computing Total Return Index', 'ISE CTA Cloud Computing Net Total Return Index', 'BS  Corporate Bond 2023 TR Index', 'BS High Yield Corporate Bond 2023 TR Index', 'BS  Corporate Bond 2024 TR Index', 'BS High Yield Corporate Bond 2024 TR Index', 'BS High Yield Corporate Bond 2025 TR Index', 'BS Corporate Bond 2025 TR Index', 'BS Corporate Bond 2026 TR Index', 'BS High Yield Corporate Bond 2026 TR Index', 'Horizon Kinetics ISE Wealth Index', 'Horizon Kinetics ISE Wealth Total Return Index', 'Horizon Kinetics ISE Wealth Net Total Return Index', 'Horizon Kinetics ISE Asia ex Japan Wealth Index', 'Horizon Kinetics ISE Asia ex Japan Wealth TR Index', 'Horizon Kinetics ISE Asia ex Japan Wealth NTR', 'DWA Developed Market Momentum & Low Volatility', 'DWA Developed Market Momentum & Low Volatility TR', 'DWA Developed Market Momentum & Low Volatility NTR', 'DWA Emerging Market Momentum & Low Volatility', 'DWA Emerging Market Momentum & Low Volatility TR', 'DWA Emerging Market Momentum & Low Volatility NTR', 'DWA Switzerland Momentum & Low Volatility', 'DWA Switzerland Momentum & Low Volatility TR ', 'DWA Switzerland Momentum & Low Volatility NTR', 'NDXCHF Monthly Currency Hedged', 'XNDXCHF Monthly Currency Hedged', 'NDXEUR Monthly Currency Hedged', 'NDXGBP Monthly Currency Hedged', 'XNDXGBP Monthly Currency Hedged', 'XNDXEUR Monthly Currency Hedged', 'Settle NASDAQ-100 Reduced Value Index', 'BS Corporate Bond 2027 TR Index', 'BS High Yield Corporate Bond 2027 TR Index', 'DAACAD Monthly Currency Hedged', 'DAACADNTR Monthly Currency Hedged', 'DAACADTR Monthly Currency Hedged', 'Kelly Industrial Real Estate Index', 'Kelly Industrial Real Estate Total Return Index', 'Kelly Industrial Real Estate Net Total Return Inde', 'Fundamental Income Net Lease Real Estate Index', 'Fundamental Income Net Lease Real Estate TR Index', 'Fundamental Income Net Lease Real Estate NTR Index', 'Kelly Data Center & Tech Infrastructure Index', 'Kelly Data Center & Tech Infrastructure Total Retu', 'Kelly Data Center & Tech Infrastructure Net Total ', 'BS High Yield Corporate Bond 2028 TR Index', 'BS Corporate Bond 2028 TR Index', 'Lunt Capital Large Cap Factor Rotation Index', 'Lunt Capital Large Cap Factor Rotation TR Index', 'Lunt Capital Large Cap Factor Rotation NTR Index', 'Settle - NASDAQ-100 Mini', 'BS Investment Grade Corporate Bond 2029 TR Index', 'BS High Yield Corporate Bond 2029 TR Index', 'The International Developed Capital Strength Index', 'The International Developed Capital Strength TR', 'The International Developed Capital Strength NTR', 'BS Investment Grade Corporate Bond 2030 TR Index', 'BS High Yield Corporate Bond 2030 TR Index', 'N Consumer Discretionary EUR PI', 'N Consumer Discretionary EUR GI', 'N Consumer Staples EUR PI', 'N Consumer Staples EUR GI', 'N Personal Care, Drug and Grocery Stores EUR PI', 'N Personal Care, Drug and Grocery Stores EUR GI', 'Strategic Technology & Ecommerce', 'Settle - Nasdaq-100 Micro Index', 'BS Investment Grade Corporate Bond 2031 TR Index', 'BS High Yield Corporate Bond 2031 TR Index', 'OMRXBOND 1 - 30 Years Index', 'OMRXTBOND 1 - 30 Years Index', 'The Dividend Strength Index', 'The Dividend Strength Total Return Index', 'The Dividend Strength Net Total Return Index', 'BS High Yield Corporate Bond 2032 TR Index', 'BS Investment Grade Corporate Bond 2032 TR Index', 'The Growth Strength Index', 'The Growth Strength Total Return Index', 'The Growth Strength Net Total Return Index', 'Settle - Nasdaq-100 ESG Index', 'BS High Yield Corporate Bond 2033 TR Index', 'BS Investment Grade Corporate Bond 2033 TR Index', 'PowerShares QQQ Trust, Ser 1', 'PowerShares FTSE RAFI US 1500 Small-Mid Portfolio', 'S&P', 'iShares MSCI ACWI Index Fund', 'iShares MSCI ACWI Ex US Index Fund', 'iShares MSCI All Country Asia ex Japan Index Fund', 'iShares Biotechnology ETF', 'Vanguard Short-Term Government Bond ETF', 'Vanguard Intermediate-Term Government Bond ETF', 'Vanguard Long-Term Government Bond ETF', 'Vanguard Short-Term Corporate Bond ETF', 'Vanguard Intermediate-Term Corporate Bond ETF', 'Vanguard Long-Term Corporate Bond ETF', 'Vanguard Mortgage-Backed Securities ETF', 'iShares MSCI Europe Financial Sector Index Fund', 'Vanguard Russell 1000 Index Fund', 'Vanguard Russell 1000 Growth Index Fund', 'Vanguard Russell 1000 Value Index Fund', 'Vanguard Russell 2000 Index Fund', 'Vanguard Russell 2000 Growth Index Fund', 'Vanguard Russell 2000 Value Index Fund', 'Vanguard Russell 3000 Index Fund', 'Vanguard Global ex-U.S. Real Estate ETF', 'CRSP US', 'Vanguard Total International Stock', 'First Trust Index NextG ETF', 'First Trust ISE Cloud Computing Index Fund', 'iShares MSCI Emerging Markets Asia Index Fund', 'iShares Barclays GNMA Bond Fund', 'Multi-Asset Diversified Income Index Fund', 'Vanguard Short-Term Inflation-Protected Securities', 'Vanguard Total International Bond ETF', 'Vanguard Emerging Markets Government Bond ETF', 'International Multi-Asset Diversified Income Index', 'First Trust Alerian US NextGen Infrastructure ETF', 'First Trust High Income ETF', 'PowerShares International BuyBack Achievers Portfo', 'First Trust RBA Quality Income ETF', 'First Trust RBA American Industrial Renaissance ET', 'VictoryShares US EQ Income Enhanced Volatility Wtd', 'Compass EMP', 'VictoryShares US 500 Enhanced Volatility Wtd ETF', 'iShares MSCI UAE Capped ETF', 'iShares MSCI Qatar Capped ETF', 'First Trust Managed Municipal ETF', 'First Trust Enhanced Short Maturity ETF', 'First Trust Strategic Income ETF', 'iShares Developed Small Cap ex-North America', 'PowerShares LadderRite 0-5 Year Corporate Bond Ptf', 'iShares Commodities Select Strategy ETF', 'IPO ETF', 'First Trust Low Duration Mortgage Opportunities ET', 'First Trust Emerging Markets Local Currency Bond E', 'PowerShares DB Optimum Yield Diversified Commoditi', 'FlexShares Credit-Scored US Corporate Bond Index', 'PowerShares DWA Tactical Sector Rotation Portfolio', 'First Trust SSI Strategic Convertible Securities E', 'FlexShares Real Assets Allocation Index Fund', 'First Trust Indxx Global Natural Resources Income', 'First Trust Indxx Global Agriculture ETF', 'Legg Mason Developed EX-US Diversified Core ETF', 'Legg Mason Emerging Markets Diversified Core ETF', 'Legg Mason US Diversified Core ETF', 'iShares Asia 50 ETF', 'iShares MSCI New Zealand Capped ETF', 'iShares MSCI Brazil Small-Cap ETF', 'iShares Global Infrastructure ETF', 'iShares Core MSCI Total International Stock ETF', 'iShares Morningstar Mid-Cap Value ETF', 'iShares MSCI China ETF', 'iShares MSCI EAFE Small-Cap ETF', 'iShares 0-5 Year Investment Grade Corporate Bond E', 'iShares 20+ Year Treasury Bond ETF', 'Vanguard International Dividend Appreciation ETF', 'Vanguard International High Dividend Yield ETF', 'iShares MSCI Global Impact ETF', 'iShares Fallen Angels USD Bond ETF', 'iShares iBoxx $ High Yield ex Oil & Gas Corporate', 'iShares MSCI EAFE ESG Select ETF', 'iShares MSCI EM ESG Select ETF', 'PowerShares DWA Momentum & Low Volatility Rotation', 'iSectors Post-MPT Growth ETF', 'Principal Millennials Index ETF', 'PowerShares Variable Rate Investment Grade Portfol', 'Ivy Focused Value NextShares', 'Ivy Focused Growth NextShares', 'Ivy Focused Energy NextShares Fund', 'iShares MSCI USA ESG Optimized ETF', 'FactSet Global FinTech PR Index', 'FactSet Global FinTech Total Return Index', 'First Trust TCW Opportunistic Fixed Income ETF', 'Nations VolDex', 'Nations SkewDex', 'Nations TailDex', 'VictoryShares Dividend Accelerator ETF', 'First Trust California Municipal High Income ETF', 'VictoryShares US Multi-Factor Minimum Volatility E', 'iShares ESG USD Corporate Bond ETF', 'iShares ESG 1-5 Year USD Corporate Bond ETF', 'iShares MSCI Emerging Markets ex China ETF', 'Credit Suisse X-Links Silver Call ETN IOPV', 'Credit Suisse X-Links Crude Oil Call ETN IOPV', 'iShares 1-3 Year Treasury Bond ETF', 'iShares Short Treasury Bond ETF', 'iShares U.S. Preferred Stock', 'iShares 7-10 Year Treasury Bond ETF', 'iShares 3-7 Year Treasury Bond ETF', 'iShares Core Total USD Bond Market ETF', 'iShares Intermediate Credit Bond ETF', 'iShares Core 1-5 Year USD Bond ETF', 'MBS ETF', 'iShares U.S. Credit Bond ETF', 'iShares 1-3 Year Credit Bond ETF', 'iShares Select Dividend ETF', 'iShares J.P. Morgan USD Emerging Markets Bond ETF', 'First Trust Municipal High Income ETF', 'First Trust SMID Cap Rising Dividend Achievers ETF', 'Vanguard Total Corporate ETF', 'Eaton Vance Oaktree Diversified Credit NextShares', 'Hartford Global Impact NextShares Fund', 'GLOBAL FINTECH JAPAN HEDGED INDEX PRICE RETURN VAL', 'GLOBAL FINTECH JAPAN HEDGED INDEX TOTAL RETURN', 'First Trust Indxx Innovative Transaction & Process', 'Fundstrat Crypto 10 Index', 'Fundstrat Crypto 250 Index', 'Fundstrat Crypto 300 Index', 'Fundstrat Crypto 40 Index', 'Fundstrat Crypto Aggregate Index', 'Fundstrat Crypto Top 50 Equal Weight Index', 'FactSet Global Mobility Price Return Index', 'FACTSET GLOBAL MOBILITY TOTAL RETURN INDEX', 'Valueguard Flats Gothenburg', 'Valueguard Flats Medium Cities Sweden', 'Valueguard Flats Malmo', 'Valueguard Flats Stockholm', 'Valueguard Flats Sweden', 'Valueguard-KTH Houses Gr Gothenburg', 'Valueguard-KTH Houses Medium Cities', 'Valueguard-KTH Houses Greater Malmo', 'Valueguard-KTH Houses Greater Stockholm', 'Valueguard-KTH Houses Sweden', 'Valueguard-KTH Housing Index Sweden', 'Global X', 'Fundstrat Crypto Commodity Index', 'Fundstrat Crypto Platform Index', 'Fundstrat Crypto Privacy Index', 'Fundstrat Crypto Exchange Index', 'Fundstrat Crypto Stablecoin Index', 'First Trust DorseyWright DALI 1 ETF', 'EXANTE Altcoin Cryptocurrency Index', 'Vanguard Total Bond Market ETF', 'Vanguard Total World Bond ETF', 'First Trust IPOX Europe Equity Opportunities ETF', 'First Trust Dow Jones International Internet ETF', 'iShares Global Green Bond ETF', 'FactSet Global Extended Space Price Return Index', 'FactSet Global Extended Space Total Return Index', 'Gold/Sweden Krona 1630GMT Spot Rate Index (SEK)', 'First Trust Low Duration Strategic Focus ETF', 'Bitcoin Liquid Index', 'Ethereum Liquid Index', 'The iShares MSCI Japan Value ETF', 'CMC Crypto 200 Index by Solactive', 'CMC Crypto 200 ex BTC Index by Solactive', 'Ripple XRP Liquid Index', 'iShares ESG MSCI USA Leaders ETF', 'Wahed FTSE USA Shariah ETF', 'DEFIX: Decentralized Finance Index', 'Invesco BulletShares 2023 Municipal Bond ETF', 'Invesco BulletShares 2024 Municipal Bond ETF', 'Invesco BulletShares 2025 Municipal Bond ETF', 'Invesco BulletShares 2026 Municipal Bond ETF', 'Invesco BulletShares 2027 Municipal Bond ETF', 'Invesco BulletShares 2028 Municipal Bond ETF', 'Invesco BulletShares 2029 Municipal Bond ETF', 'Cryptoindex.com', 'Procure Space ETF', 'VanEck Vectors Gaming ETF', 'VanEck Vectors Fallen Angel High Yield Bond ETF', 'VanEck Vectors Video Gaming and eSports ETF', 'VanEck Vectors Retail ETF', 'VanEck Vectors Semiconductor ETF', 'Invesco BulletShares 2027 High Yield Corporate Bon', 'Invesco BulletShares 2026 High Yield Corporate Bon', 'Invesco BulletShares 2025 High Yield Corporate Bon', 'Invesco BulletShares 2023 Corporate Bond ETF', 'Invesco BulletShares 2024 High Yield Corporate Bon', 'Invesco BulletShares 2024 Corporate Bond ETF', 'Invesco BulletShares 2023 High Yield Corporate Bon', 'Invesco BulletShares 2025 Corporate Bond ETF', 'Invesco BulletShares 2026 Corporate Bond ETF', 'Invesco BulletShares 2027 Corporate Bond ETF', 'Invesco BulletShares 2029 Corporate Bond ETF', 'Invesco BulletShares 2028 Corporate Bond ETF', 'iShares ESG MSCI EM Leaders ETF', 'Wholesale Cannabis Price Paid to Licensed Producer', 'Wholesale Cannabis Price Paid by the Distributor', 'Canada Wt Avg Fed/Prov Excise Tax Paid by Lic Prod', 'iShares iBonds Dec 2023 Term Treasury ETF', 'iShares iBonds Dec 2024 Term Treasury ETF', 'iShares iBonds Dec 2025 Term Treasury ETF', 'iShares iBonds Dec 2026 Term Treasury ETF', 'iShares iBonds Dec 2027 Term Treasury ETF', 'iShares iBonds Dec 2028 Term Treasury ETF', 'iShares iBonds Dec 2029 Term Treasury ETF', 'USA ETF', 'EAFE ETF', 'Optimal Blue 30-Yr Conforming Fixed Rate', 'Optimal Blue 15-Yr Conforming Fixed Rate', 'Optimal Blue 30-Yr FHA Fixed Rate', 'Optimal Blue 30-Yr VA Fixed Rate', 'Optimal Blue 30-Yr USDA Fixed Rate', 'Optimal Blue 30-Yr Jumbo Fixed Rate', 'Optimal Blue 30Yr', 'iShares iBonds Dec 2030 Term Treasury ETF', 'EM ETF', 'ixCrypto Index', 'TSC US Water Security Net Return Index', 'TSC US Water Security Price Return Index', 'TSC Euro Water Security Net Return Index', 'TSC Euro Water Security Price Return Index', 'ixBitcoin Index', 'ixEthereum Index', 'REIT ETF', 'Strategic Hotel & Lodging', 'Strategic E-Commerce', 'Strategic Residential & Apartment Real Estate Sect', 'Strategic Residential & Apartment Real Estate PR', 'Strategic Residential & Apartment Real Estate TR', 'Strategic Fintech & Digital Payments', 'Strategic Streaming & Gaming Technology Sector NTR', 'Strategic Streaming & Gaming Technology Sector PR', 'Strategic Streaming & Gaming Technology Sector TR', 'VanEck Vectors® Digital Transformation ETF', 'Strategic Internet of Things Technology Sector NTR', 'Strategic Internet of Things Technology Sector PR', 'Strategic Internet of Things Technology Sector TR', 'Bitwise Crypto Innovators 30 NTR Index', 'Bitwise Crypto Innovators 30 Price Return Index', 'Bitwise Crypto Innovators 30 Total Return Index', 'The ICMR (Re)Insurance Specialty NTR Index', 'The ICMR (Re)Insurance Specialty PR Index', 'Digital Infrastructure Investor Global NTR Index', 'iShares iBonds Dec 2031 Term Treasury ETF', 'Principal Healthcare Innovators Index ETF', 'Principal U.S. Small-Cap Multi-Factor ETF', 'Principal U.S. Mega-Cap ETF', 'IPOX Canada Index', 'IPOX Growth Infusion Index', 'CRSP ISS US Large Cap ESG Prime Index', 'CRSP ISS US Large Cap ESG Non-Prime Index', 'CRSP ISS US Large Cap ESG Index', 'CRSP ISS US Large Cap ESG Remainder Index', 'CRSP ISS US Large Cap ESG Industry Balanced Index', 'CRSP ISS US Large Cap ESG Industry Balanced Remain', 'CRSP ISS US Large Cap ESG Prime Index TR', 'CRSP ISS US Large Cap ESG Non-Prime Index TR', 'CRSP ISS US Large Cap ESG Index TR', 'CRSP ISS US Large Cap ESG Remainder Index TR', 'FFF FoodTech Index', 'ESG ETF', 'DIAx Bitcoin Performance Index', 'DIAx DIA Performance index', 'First Trust Capital Strength ETF', 'iShares USD Bond Factor ETF', 'OMXI 10-year indexed 10 years', 'OMXI 5-year indexed 5 years', 'OMXI 5-year non-indexed 5 years', 'OMXI 1-year non-indexed 1 year', 'Bitwise Crypto Innovators Price Return Index', 'Bitwise Crypto Innovators Net Total Return Index', 'Bitwise Crypto Innovators Total Return Index', 'Fount Metaverse Index', 'Fount Subscription Economy Index', 'iShares ESG MSCI USA Min Vol Factor ETF', 'Global Metaverse Index', 'Global Metaverse Total Return Index', 'Global Metaverse Net Total Return Index', 'Strategic CRISPR & Gene Editing Technology PR Inde', 'Strategic CRISPR & Gene Editing Technology NTR Ind', 'Strategic CRISPR & Gene Editing Technology TR Inde', 'GBTC ETF', 'Global Metaverse USD Index', 'Global Metaverse USD Total Return Index', 'Global Metaverse USD Net Total Return Index', 'Morningstar Eurozone Large-Mid Banks GR EUR', 'Morningstar Eurozone Large-Mid Banks NR EUR', 'Morningstar Eurozone Large-Mid Banks PR EUR', 'Morningstar Eurozone Large-Mid Banks Decrement 5% ', 'Morningstar Eurozone Large-Mid Banks Decrement 50', 'Morningstar DM Europe Large-Mid Oil and Gas GR EUR', 'Morningstar DM Europe Large-Mid Oil and Gas NR EUR', 'Morningstar DM Europe Large-Mid Oil and Gas PR EUR', 'MS DM Europe Large-Mid Oil and Gas Decrement 5% NR', 'MS DM Europe Large-Mid Oil and Gas Decrement 50 Po', '10HANDL Net Excess Return Index (NER)', '10HANDL Price Excess Return Index (PER)', '10HANDL Total Excess Return Index (TER)', 'IPOX RBC SPAC Price Index USD', 'iShares MSCI China Multisector Tech ETF', 'OTONOMI INC', 'Principal Shareholder Yield Index ETF', 'Principal Price Setters Index ETF', 'VegTech Plant-based Innovation & Alternative PR', 'VegTech Plant-based Innovation & Alternative NTR', 'VegTech Plant-based Innovation & Alternative TR', 'Fidelity Crypto Industry and Digital Payments ETF', 'Fidelity Metaverse ETF', 'SPDR® MSCI USA Climate Paris Aligned ETF', 'Bitwise BTC ETH Equal Weight Crypto Index', 'iShares Emergent Food and AgTech Multisector ETF', 'OMXI 10-year non-indexed 10 years', 'Procure Disaster Recovery Strategy ETF', 'Nuveen Global Net Zero Equity ETF', 'Direxion Daily AAPL Bull 2X Shares', 'Direxion Daily AAPL Bear 1X Shares', 'Direxion Daily TSLA Bull 2X Shares', 'Direxion Daily TSLA Bear 1X Shares', 'JPMorgan Social Advancement ETF', 'JPMorgan Sustainable Consumption ETF', 'JPMorgan Sustainable Infrastructure ETF', 'iShares MSCI Water Management Multisector ETF', 'American Century Short Duration Strategic Income', 'VictoryShares WestEnd US Sector ETF', 'VanEck Green Infrastructure ETF', 'First Trust Growth Strength ETF', 'VictoryShares US Value Momentum ETF', 'VictoryShares US Small Mid Cap Value Momentum ETF', 'VictoryShares International Value Momentum ETF', 'VictoryShares Emerging Markets Value Momentum ETF', 'iShares Environmental Infra & Industrials ETF', 'iShares Environmentally Aware Real Estate ETF', 'CLO ETF', 'iShares Breakthrough Environmental Solutions ETF', 'VanEck Robotics ETF', 'BNY Mellon Innovators ETF', \"BNY Mellon Women's Opportunities ETF\", 'Fidelity Disruptive Automation ETF', 'Fidelity Disruptive Communications ETF', 'Fidelity Disruptive Finance ETF', 'Fidelity Disruptive Medicine ETF', 'Fidelity Disruptive Technology ETF', 'Fidelity Disruptors ETF', 'iShares Copper and Metals Mining ETF', 'iShares Lithium Miners and Producers ETF', 'VictoryShares Free Cash Flow ETF', 'iShares iBonds Dec 2033 Term Treasury ETF', 'BlackRock Short-Term California Muni Bond ETF', 'JPMorgan Equity Focus ETF']\n",
      "613\n"
     ]
    }
   ],
   "source": [
    "unique_grouped_gidsnames = df_gids['Grouped Name'].drop_duplicates()\n",
    "unique_grouped_gidsnames_list = unique_grouped_gidsnames.tolist()\n",
    "print(unique_grouped_gidsnames_list)\n",
    "print(len(unique_grouped_gidsnames_list))"
   ]
  },
  {
   "cell_type": "code",
   "execution_count": 156,
   "metadata": {},
   "outputs": [
    {
     "name": "stdout",
     "output_type": "stream",
     "text": [
      "        Symbol                                               Name  \\\n",
      "9381      PSCD  PowerShares S&P SmallCap Consumer Discretionar...   \n",
      "9382      PSCC      PowerShares S&P SmallCap Consumer Staples Ptf   \n",
      "9383      PSCE          PowerShares S&P SmallCap Energy Portfolio   \n",
      "9384      PSCF      PowerShares S&P SmallCap Financials Portfolio   \n",
      "9385      PSCH     PowerShares S&P SmallCap Health Care Portfolio   \n",
      "9386      PSCI     PowerShares S&P SmallCap Industrials Portfolio   \n",
      "9387      PSCT      PowerShares S&P SmallCap Information Tech Ptf   \n",
      "9388      PSCM       PowerShares S&P SmallCap Materials Portfolio   \n",
      "9389      PSCU       PowerShares S&P SmallCap Utilities Portfolio   \n",
      "9392      EMIF  iShares S&P Emerging Markets Infrastructure Ix Fd   \n",
      "9393      ICLN         iShares S&P Global Clean Energy Index Fund   \n",
      "9394      WOOD    iShares S&P Global Timber & Forestry Index Fund   \n",
      "9397      ISHG    iShares S&P/Citigroup 1-3 Yr Intl Treasury Bond   \n",
      "9398      IGOV  iShares S&P/Citigroup International Treasury Bond   \n",
      "9400      INDY              iShares S&P India Nifty 50 Index Fund   \n",
      "9631  DQM15050  Fundstrat Doctor Quant Model S&P 500 Eq Wt 150:50   \n",
      "9632   DQMLONG    Fundstrat Doctor Quant Model S&P 500 Eq Wt Long   \n",
      "9633  DQMNEUTR   Fundstrat Doctor Quant Model S&P 500 Mkt Neutral   \n",
      "9634  DQMSHORT   Fundstrat Doctor Quant Model S&P 500 Eq Wt Short   \n",
      "9752      CEFA  Global X S&P Catholic Values Developed ex-U.S....   \n",
      "\n",
      "                                           Grouped Name  \n",
      "9381                                                S&P  \n",
      "9382                                                S&P  \n",
      "9383                                                S&P  \n",
      "9384                                                S&P  \n",
      "9385                                                S&P  \n",
      "9386                                                S&P  \n",
      "9387                                                S&P  \n",
      "9388                                                S&P  \n",
      "9389                                                S&P  \n",
      "9392  iShares S&P Emerging Markets Infrastructure Ix Fd  \n",
      "9393         iShares S&P Global Clean Energy Index Fund  \n",
      "9394    iShares S&P Global Timber & Forestry Index Fund  \n",
      "9397    iShares S&P/Citigroup 1-3 Yr Intl Treasury Bond  \n",
      "9398  iShares S&P/Citigroup International Treasury Bond  \n",
      "9400              iShares S&P India Nifty 50 Index Fund  \n",
      "9631                                                S&P  \n",
      "9632                                                S&P  \n",
      "9633                                                S&P  \n",
      "9634                                                S&P  \n",
      "9752                                           Global X  \n"
     ]
    }
   ],
   "source": [
    "# Función para buscar nombres similares a \"S&P 500\"\n",
    "def is_like_sp500(name):\n",
    "    return bool(re.search(r'S&P', name, re.IGNORECASE))\n",
    "\n",
    "# Filtrar el DataFrame para obtener los nombres similares a \"S&P 500\"\n",
    "filtered_df = df_gids[df_gids['Name'].apply(is_like_sp500)]\n",
    "\n",
    "# Mostrar el DataFrame resultante con los nombres similares a \"S&P 500\"\n",
    "print(filtered_df[['Symbol', 'Name','Grouped Name']])"
   ]
  },
  {
   "cell_type": "code",
   "execution_count": 164,
   "metadata": {},
   "outputs": [
    {
     "name": "stdout",
     "output_type": "stream",
     "text": [
      "S&P\n"
     ]
    }
   ],
   "source": [
    "pattern = r'(\\bNasdaq-100\\b)|(\\bNasdaq\\b)|(\\b[A-Z]+ ETF\\b)|(\\b[A-Z]+ Muni Bond ETF\\b)' +\\\n",
    "        r'|(\\bS&P\\b)|(\\bNASDAQ\\b)|(\\bThe Capital Strength\\b)|(\\bSettle\\b.*)|(\\bFidelity Disruptive\\b.*)' + \\\n",
    "        r'|(\\bPHLX\\b)|(\\bThe Capital Strength\\b)|(\\bOMX\\b)|(\\bOMRX\\b)|(\\bFirst North\\b)'+\\\n",
    "        r'|(\\bDorsey Wright\\b)|(\\bCompass EMP\\b)|(\\bGlobal X\\b)|(\\bOptimal Blue 30Yr\\b)'+\\\n",
    "        r'|(\\bStrategic Technology & Ecommerce\\b)|(\\Strategic Hotel & Lodging\\b)|(\\bStrategic E-Commerce\\b)'+\\\n",
    "        r'|(\\bStrategic Fintech & Digital Payments\\b)|(\\bCRSP US\\b)'\n",
    "\n",
    "match = re.search(pattern, 'iShares S&P Global Clean Energy Index Fund')\n",
    "if match:\n",
    "    print(match.group())\n"
   ]
  },
  {
   "cell_type": "code",
   "execution_count": null,
   "metadata": {},
   "outputs": [],
   "source": []
  },
  {
   "cell_type": "code",
   "execution_count": null,
   "metadata": {},
   "outputs": [],
   "source": []
  }
 ],
 "metadata": {
  "interpreter": {
   "hash": "31f2aee4e71d21fbe5cf8b01ff0e069b9275f58929596ceb00d14d90e3e16cd6"
  },
  "kernelspec": {
   "display_name": "Python 3.8.10 64-bit",
   "language": "python",
   "name": "python3"
  },
  "language_info": {
   "codemirror_mode": {
    "name": "ipython",
    "version": 3
   },
   "file_extension": ".py",
   "mimetype": "text/x-python",
   "name": "python",
   "nbconvert_exporter": "python",
   "pygments_lexer": "ipython3",
   "version": "3.11.4"
  },
  "orig_nbformat": 4
 },
 "nbformat": 4,
 "nbformat_minor": 2
}
