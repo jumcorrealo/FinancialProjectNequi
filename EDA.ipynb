{
 "cells": [
  {
   "cell_type": "code",
   "execution_count": 2,
   "metadata": {},
   "outputs": [],
   "source": [
    "import matplotlib.pyplot as plt\n",
    "import seaborn as sns\n",
    "import yfinance as yf\n",
    "import csv\n",
    "import random\n",
    "import pandas as pd\n",
    "from tqdm import tqdm\n",
    "import datetime\n",
    "import logging\n",
    "import re\n",
    "import configparser\n",
    "import psycopg2\n",
    "import socket\n",
    "import sys"
   ]
  },
  {
   "cell_type": "code",
   "execution_count": 3,
   "metadata": {},
   "outputs": [
    {
     "name": "stdout",
     "output_type": "stream",
     "text": [
      "Connected successfully!\n"
     ]
    }
   ],
   "source": [
    "config = configparser.ConfigParser()\n",
    "config.read('../config.ini')\n",
    "\n",
    "# Get the database credentials\n",
    "db_endpoint = config['database']['host']\n",
    "db_name = config['database']['database_name']\n",
    "db_user = config['database']['username']\n",
    "db_password = config['database']['password']\n",
    "db_port = int(config['database']['port'])\n",
    "\n",
    "# Set the timeout for the connection attempt (in seconds)\n",
    "connection_timeout = 10\n",
    "\n",
    "try:\n",
    "    # Create a socket and set a timeout for the connection attempt\n",
    "    #conn_socket = socket.create_connection((db_endpoint, 5432), timeout=connection_timeout)\n",
    "    \n",
    "    # If the connection was successful, close the socket\n",
    "    #conn_socket.close()\n",
    "    \n",
    "    # Now establish the database connection using psycopg2\n",
    "    connection = psycopg2.connect(\n",
    "        host=db_endpoint,\n",
    "        port = db_port,\n",
    "        database = db_name,\n",
    "        user=db_user,\n",
    "        password=db_password\n",
    "    )\n",
    "    print(\"Connected successfully!\")\n",
    "    \n",
    "\n",
    "except (socket.timeout, psycopg2.OperationalError) as e:\n",
    "    if isinstance(e, socket.timeout):\n",
    "        print(\"Error: Connection timed out.\")\n",
    "    else:\n",
    "        print(\"Error during connection:\", e)\n",
    "    sys.exit(1)  # Terminate the program with a non-zero exit code"
   ]
  },
  {
   "cell_type": "code",
   "execution_count": 6,
   "metadata": {},
   "outputs": [],
   "source": [
    "with connection.cursor() as cursor:\n",
    "    cursor.execute(\"SELECT * FROM tbTradingHistoric;\")\n",
    "    columns = [desc[0] for desc in cursor.description]\n",
    "    data = cursor.fetchall()\n",
    "    df_trading_historic = pd.DataFrame(data, columns=columns)"
   ]
  },
  {
   "cell_type": "code",
   "execution_count": 22,
   "metadata": {},
   "outputs": [
    {
     "data": {
      "text/html": [
       "<div>\n",
       "<style scoped>\n",
       "    .dataframe tbody tr th:only-of-type {\n",
       "        vertical-align: middle;\n",
       "    }\n",
       "\n",
       "    .dataframe tbody tr th {\n",
       "        vertical-align: top;\n",
       "    }\n",
       "\n",
       "    .dataframe thead th {\n",
       "        text-align: right;\n",
       "    }\n",
       "</style>\n",
       "<table border=\"1\" class=\"dataframe\">\n",
       "  <thead>\n",
       "    <tr style=\"text-align: right;\">\n",
       "      <th></th>\n",
       "      <th>Date</th>\n",
       "      <th>Open</th>\n",
       "      <th>High</th>\n",
       "      <th>Low</th>\n",
       "      <th>Close</th>\n",
       "      <th>Adj_Close</th>\n",
       "      <th>Volume</th>\n",
       "      <th>Symbol</th>\n",
       "    </tr>\n",
       "  </thead>\n",
       "  <tbody>\n",
       "    <tr>\n",
       "      <th>0</th>\n",
       "      <td>2023-01-03</td>\n",
       "      <td>151.960007</td>\n",
       "      <td>153.130005</td>\n",
       "      <td>148.470001</td>\n",
       "      <td>150.039993</td>\n",
       "      <td>149.510452</td>\n",
       "      <td>1414300</td>\n",
       "      <td>A</td>\n",
       "    </tr>\n",
       "    <tr>\n",
       "      <th>1</th>\n",
       "      <td>2023-01-04</td>\n",
       "      <td>151.649994</td>\n",
       "      <td>153.039993</td>\n",
       "      <td>150.240005</td>\n",
       "      <td>151.669998</td>\n",
       "      <td>151.134705</td>\n",
       "      <td>1247400</td>\n",
       "      <td>A</td>\n",
       "    </tr>\n",
       "    <tr>\n",
       "      <th>2</th>\n",
       "      <td>2023-01-05</td>\n",
       "      <td>150.000000</td>\n",
       "      <td>153.070007</td>\n",
       "      <td>148.770004</td>\n",
       "      <td>152.110001</td>\n",
       "      <td>151.573166</td>\n",
       "      <td>1714600</td>\n",
       "      <td>A</td>\n",
       "    </tr>\n",
       "    <tr>\n",
       "      <th>3</th>\n",
       "      <td>2023-01-06</td>\n",
       "      <td>154.360001</td>\n",
       "      <td>154.639999</td>\n",
       "      <td>143.009995</td>\n",
       "      <td>147.669998</td>\n",
       "      <td>147.148834</td>\n",
       "      <td>2445000</td>\n",
       "      <td>A</td>\n",
       "    </tr>\n",
       "    <tr>\n",
       "      <th>4</th>\n",
       "      <td>2023-01-09</td>\n",
       "      <td>149.690002</td>\n",
       "      <td>151.279999</td>\n",
       "      <td>147.199997</td>\n",
       "      <td>147.470001</td>\n",
       "      <td>146.949524</td>\n",
       "      <td>1269600</td>\n",
       "      <td>A</td>\n",
       "    </tr>\n",
       "  </tbody>\n",
       "</table>\n",
       "</div>"
      ],
      "text/plain": [
       "         Date        Open        High         Low       Close   Adj_Close  \\\n",
       "0  2023-01-03  151.960007  153.130005  148.470001  150.039993  149.510452   \n",
       "1  2023-01-04  151.649994  153.039993  150.240005  151.669998  151.134705   \n",
       "2  2023-01-05  150.000000  153.070007  148.770004  152.110001  151.573166   \n",
       "3  2023-01-06  154.360001  154.639999  143.009995  147.669998  147.148834   \n",
       "4  2023-01-09  149.690002  151.279999  147.199997  147.470001  146.949524   \n",
       "\n",
       "    Volume Symbol  \n",
       "0  1414300      A  \n",
       "1  1247400      A  \n",
       "2  1714600      A  \n",
       "3  2445000      A  \n",
       "4  1269600      A  "
      ]
     },
     "execution_count": 22,
     "metadata": {},
     "output_type": "execute_result"
    }
   ],
   "source": [
    "df_trading_historic.head()"
   ]
  },
  {
   "cell_type": "code",
   "execution_count": 9,
   "metadata": {},
   "outputs": [
    {
     "data": {
      "text/plain": [
       "Index(['Date', 'Open', 'High', 'Low', 'Close', 'Adj_Close', 'Volume',\n",
       "       'Symbol'],\n",
       "      dtype='object')"
      ]
     },
     "execution_count": 9,
     "metadata": {},
     "output_type": "execute_result"
    }
   ],
   "source": [
    "df_trading_historic.columns"
   ]
  },
  {
   "cell_type": "code",
   "execution_count": 11,
   "metadata": {},
   "outputs": [
    {
     "name": "stdout",
     "output_type": "stream",
     "text": [
      "                Open           High            Low          Close  \\\n",
      "count  943135.000000  943135.000000  943135.000000  943135.000000   \n",
      "mean       36.802673      37.318264      36.309455      36.826225   \n",
      "std       122.558300     123.983960     121.272416     122.685630   \n",
      "min         0.000000       0.002800       0.001300       0.001600   \n",
      "25%         4.380000       4.510000       4.230000       4.370000   \n",
      "50%        11.350000      11.550000      11.160000      11.350000   \n",
      "75%        30.990000      31.500000      30.469999      31.000000   \n",
      "max      6474.529785    6474.529785    6405.000000    6466.000000   \n",
      "\n",
      "           Adj_Close        Volume  \n",
      "count  943135.000000  9.431350e+05  \n",
      "mean       36.760733  1.202514e+06  \n",
      "std       122.646157  6.073132e+06  \n",
      "min         0.001600  0.000000e+00  \n",
      "25%         4.360000  2.720000e+04  \n",
      "50%        11.300000  1.698000e+05  \n",
      "75%        30.910000  7.484000e+05  \n",
      "max      6466.000000  1.894472e+09  \n"
     ]
    }
   ],
   "source": [
    "# Resumen estadístico básico\n",
    "print(df_trading_historic.describe())"
   ]
  },
  {
   "cell_type": "code",
   "execution_count": 12,
   "metadata": {},
   "outputs": [
    {
     "name": "stdout",
     "output_type": "stream",
     "text": [
      "<class 'pandas.core.frame.DataFrame'>\n",
      "RangeIndex: 943135 entries, 0 to 943134\n",
      "Data columns (total 8 columns):\n",
      " #   Column     Non-Null Count   Dtype  \n",
      "---  ------     --------------   -----  \n",
      " 0   Date       943135 non-null  object \n",
      " 1   Open       943135 non-null  float64\n",
      " 2   High       943135 non-null  float64\n",
      " 3   Low        943135 non-null  float64\n",
      " 4   Close      943135 non-null  float64\n",
      " 5   Adj_Close  943135 non-null  float64\n",
      " 6   Volume     943135 non-null  int64  \n",
      " 7   Symbol     943135 non-null  object \n",
      "dtypes: float64(5), int64(1), object(2)\n",
      "memory usage: 57.6+ MB\n",
      "None\n"
     ]
    }
   ],
   "source": [
    "# Información general del DataFrame\n",
    "print(df_trading_historic.info())"
   ]
  },
  {
   "cell_type": "code",
   "execution_count": 13,
   "metadata": {},
   "outputs": [
    {
     "name": "stdout",
     "output_type": "stream",
     "text": [
      "Date         0\n",
      "Open         0\n",
      "High         0\n",
      "Low          0\n",
      "Close        0\n",
      "Adj_Close    0\n",
      "Volume       0\n",
      "Symbol       0\n",
      "dtype: int64\n"
     ]
    }
   ],
   "source": [
    "# Contar valores nulos en cada columna\n",
    "print(df_trading_historic.isnull().sum())"
   ]
  },
  {
   "cell_type": "code",
   "execution_count": 21,
   "metadata": {},
   "outputs": [
    {
     "name": "stdout",
     "output_type": "stream",
     "text": [
      "Cantidad de registros duplicados: 0\n"
     ]
    }
   ],
   "source": [
    "#Find the duplicates\n",
    "\n",
    "duplicate_regist = df_trading_historic.duplicated().sum()\n",
    "print(f\"Cantidad de registros duplicados: {duplicate_regist}\")"
   ]
  },
  {
   "cell_type": "code",
   "execution_count": 20,
   "metadata": {},
   "outputs": [
    {
     "name": "stdout",
     "output_type": "stream",
     "text": [
      "Cantidad de símbolos únicos: 7080\n"
     ]
    }
   ],
   "source": [
    "#Count the unique symbols in the data\n",
    "unique_symbols_count = df_trading_historic['Symbol'].nunique()\n",
    "print(f\"Cantidad de símbolos únicos: {unique_symbols_count}\")"
   ]
  },
  {
   "cell_type": "code",
   "execution_count": 27,
   "metadata": {},
   "outputs": [
    {
     "data": {
      "text/plain": [
       "{'whiskers': [<matplotlib.lines.Line2D at 0x7fb4a4167400>,\n",
       "  <matplotlib.lines.Line2D at 0x7fb4a41676a0>],\n",
       " 'caps': [<matplotlib.lines.Line2D at 0x7fb4a4167940>,\n",
       "  <matplotlib.lines.Line2D at 0x7fb4a4167be0>],\n",
       " 'boxes': [<matplotlib.lines.Line2D at 0x7fb4a4167160>],\n",
       " 'medians': [<matplotlib.lines.Line2D at 0x7fb4a4167e80>],\n",
       " 'fliers': [<matplotlib.lines.Line2D at 0x7fb4a40ed160>],\n",
       " 'means': []}"
      ]
     },
     "execution_count": 27,
     "metadata": {},
     "output_type": "execute_result"
    },
    {
     "data": {
      "image/png": "[encoded data removed]",
      "text/plain": [
       "<Figure size 640x480 with 1 Axes>"
      ]
     },
     "metadata": {},
     "output_type": "display_data"
    }
   ],
   "source": [
    "plt.boxplot(df_trading_historic[df_trading_historic['Symbol']=='A']['Open'])"
   ]
  },
  {
   "cell_type": "code",
   "execution_count": null,
   "metadata": {},
   "outputs": [],
   "source": []
  }
 ],
 "metadata": {
  "interpreter": {
   "hash": "31f2aee4e71d21fbe5cf8b01ff0e069b9275f58929596ceb00d14d90e3e16cd6"
  },
  "kernelspec": {
   "display_name": "Python 3.8.10 64-bit",
   "language": "python",
   "name": "python3"
  },
  "language_info": {
   "codemirror_mode": {
    "name": "ipython",
    "version": 3
   },
   "file_extension": ".py",
   "mimetype": "text/x-python",
   "name": "python",
   "nbconvert_exporter": "python",
   "pygments_lexer": "ipython3",
   "version": "3.8.10"
  },
  "orig_nbformat": 4
 },
 "nbformat": 4,
 "nbformat_minor": 2
}
