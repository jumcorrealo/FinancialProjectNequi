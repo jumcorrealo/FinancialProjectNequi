{
 "cells": [
  {
   "cell_type": "code",
   "execution_count": 1,
   "metadata": {},
   "outputs": [],
   "source": [
    "import configparser\n",
    "import psycopg2\n",
    "import socket\n",
    "import sys\n",
    "import logging\n",
    "import traceback\n",
    "import pandas as pd"
   ]
  },
  {
   "cell_type": "code",
   "execution_count": 20,
   "metadata": {},
   "outputs": [
    {
     "name": "stdout",
     "output_type": "stream",
     "text": [
      "Connected successfully!\n"
     ]
    }
   ],
   "source": [
    "config = configparser.ConfigParser()\n",
    "config.read('../config.ini')\n",
    "\n",
    "# Get the database credentials\n",
    "db_endpoint = config['redshift']['host']\n",
    "db_name = config['redshift']['database_name']\n",
    "db_user = config['redshift']['username']\n",
    "db_password = config['redshift']['password']\n",
    "db_port = int(config['redshift']['port'])\n",
    "\n",
    "# Set the timeout for the connection attempt (in seconds)\n",
    "connection_timeout = 10\n",
    "\n",
    "try:    \n",
    "    # Now establish the database connection using psycopg2\n",
    "    connection = psycopg2.connect(\n",
    "        host=db_endpoint,\n",
    "        port = db_port,\n",
    "        database = db_name,\n",
    "        user=db_user,\n",
    "        password=db_password\n",
    "    )\n",
    "    print(\"Connected successfully!\")\n",
    "    \n",
    "\n",
    "except (socket.timeout, psycopg2.OperationalError) as e:\n",
    "    if isinstance(e, socket.timeout):\n",
    "        print(\"Error: Connection timed out.\")\n",
    "    else:\n",
    "        print(\"Error during connection:\", e)\n",
    "    sys.exit(1)  # Terminate the program with a non-zero exit code"
   ]
  },
  {
   "cell_type": "code",
   "execution_count": 21,
   "metadata": {},
   "outputs": [],
   "source": [
    "with connection.cursor() as cursor:\n",
    "    cursor.execute(\"\"\"  SELECT \n",
    "                            c.table_schema AS \"Esquema\",\n",
    "                            c.table_name AS \"Tabla\",\n",
    "                            c.column_name AS \"Columna\",\n",
    "                            c.data_type AS \"Tipo de Dato\",\n",
    "                            c.character_maximum_length AS \"Longitud Máxima\",\n",
    "                            d.description AS \"Descripción\"\n",
    "                        FROM \n",
    "                            information_schema.columns c\n",
    "                        LEFT JOIN (\n",
    "                        SELECT \n",
    "                            objoid,\n",
    "                            objsubid,\n",
    "                            description\n",
    "                        FROM \n",
    "                            pg_catalog.pg_description\n",
    "                        ) d ON \n",
    "                            d.objoid = (\n",
    "                            SELECT \n",
    "                                oid \n",
    "                            FROM pg_class \n",
    "                            WHERE relname = c.table_name\n",
    "                            )\n",
    "                            AND d.objsubid = (\n",
    "                            SELECT \n",
    "                                ordinal_position \n",
    "                            FROM information_schema.columns \n",
    "                            WHERE table_name = c.table_name AND column_name = c.column_name\n",
    "                            )\n",
    "                        WHERE \n",
    "                            c.table_schema NOT IN ('pg_catalog', 'information_schema')\n",
    "                        ORDER BY \n",
    "                            c.table_schema,\n",
    "                            c.table_name,\n",
    "                            c.ordinal_position;\"\"\")\n",
    "    columns = [desc[0] for desc in cursor.description]\n",
    "    data = cursor.fetchall()\n",
    "    df_trading_historic = pd.DataFrame(data, columns=columns)"
   ]
  },
  {
   "cell_type": "code",
   "execution_count": 23,
   "metadata": {},
   "outputs": [],
   "source": [
    "df_trading_historic.to_csv('DiccionarioDatosRedshift')"
   ]
  },
  {
   "cell_type": "code",
   "execution_count": null,
   "metadata": {},
   "outputs": [],
   "source": []
  }
 ],
 "metadata": {
  "kernelspec": {
   "display_name": "Python 3",
   "language": "python",
   "name": "python3"
  },
  "language_info": {
   "codemirror_mode": {
    "name": "ipython",
    "version": 3
   },
   "file_extension": ".py",
   "mimetype": "text/x-python",
   "name": "python",
   "nbconvert_exporter": "python",
   "pygments_lexer": "ipython3",
   "version": "3.11.4"
  },
  "orig_nbformat": 4
 },
 "nbformat": 4,
 "nbformat_minor": 2
}
